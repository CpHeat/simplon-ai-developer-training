{
 "cells": [
  {
   "cell_type": "markdown",
   "id": "79f101b4",
   "metadata": {},
   "source": [
    "1. **Modifiez la requête actuelle** pour interroger dynamiquement plusieurs villes successivement via le Runner de Postman. Comment automatiser cela sans modifier la requête à chaque fois ?"
   ]
  },
  {
   "cell_type": "markdown",
   "id": "abffc545",
   "metadata": {},
   "source": [
    "On peut créer un fichier .csv contenant le nom des villes à tester et le passer au runner Postman pour qu'il appelle l'endpoint pour chaque ville de la liste"
   ]
  },
  {
   "cell_type": "markdown",
   "id": "2e06caa9",
   "metadata": {},
   "source": [
    "```\n",
    "city\n",
    "Paris\n",
    "London\n",
    "Tokyo\n",
    "New York\n",
    "```"
   ]
  },
  {
   "cell_type": "markdown",
   "id": "14a5d8fb",
   "metadata": {},
   "source": [
    "2. **Stockez dans une variable d’environnement** la description de la météo (`weather[0].main`). Proposez ensuite un script conditionnel qui affiche un message spécifique selon les cas (`Rain`, `Clear`, etc.)."
   ]
  },
  {
   "cell_type": "code",
   "execution_count": null,
   "id": "884245e8",
   "metadata": {
    "vscode": {
     "languageId": "javascript"
    }
   },
   "outputs": [],
   "source": [
    "const data = pm.response.json();\n",
    "\n",
    "pm.environment.set(\"lastWeather\", data.weather[0].main);\n",
    "\n",
    "if(pm.environment.get(\"lastWeather\") == \"clear\"){\n",
    "    console.log(\"Le ciel est dégagé\");\n",
    "}\n",
    "else if(pm.environment.get(\"lastWeather\") == \"rain\"){\n",
    "    console.log(\"Il pleut des cordes\");\n",
    "}\n",
    "else if(pm.environment.get(\"lastWeather\") == \"clouds\"){\n",
    "    console.log(\"Le ciel est nuageux\");\n",
    "}\n",
    "else{\n",
    "    console.log(\"Le ciel est mystérieux\");\n",
    "}"
   ]
  },
  {
   "cell_type": "markdown",
   "id": "bbdbe8c5",
   "metadata": {},
   "source": [
    "3. **Exploitez la donnée `feels_like`** fournie dans le bloc `main`. Affichez dans la console la différence entre `temp` et `feels_like` et interprétez ce que cela peut signifier dans un système IA contextuel."
   ]
  },
  {
   "cell_type": "code",
   "execution_count": null,
   "id": "38e9dbc6",
   "metadata": {
    "vscode": {
     "languageId": "javascript"
    }
   },
   "outputs": [],
   "source": [
    "const temp_appreciation_difference = (data.main.feels_like - data.main.temp)\n",
    "\n",
    "if(temp_appreciation_difference < 0){\n",
    "    console.log(\"La température ressentie est inférieure de \" + Math.abs(temp_appreciation_difference) + \" degrés à la température réelle\")\n",
    "}\n",
    "if(temp_appreciation_difference > 0){\n",
    "    console.log(\"La température ressentie est supérieure de \" + Math.abs(temp_appreciation_difference) + \" degrés à la température réelle\")\n",
    "}\n",
    "else{\n",
    "    console.log(\"La température ressentie est identique à la température réelle\")\n",
    "}"
   ]
  },
  {
   "cell_type": "markdown",
   "id": "43d08a34",
   "metadata": {},
   "source": [
    "Une température ressentie fortement inférieure peut signifier qu'il y a du vent, une température largement supérieure un air humide."
   ]
  },
  {
   "cell_type": "markdown",
   "id": "4cc6cfe4",
   "metadata": {},
   "source": [
    "4. **Enregistrez dans une collection JSON structurée** les températures de 5 villes, avec leur nom, température, humidité et état du ciel. Comment pourriez-vous transformer ce JSON en dataset utilisable pour un modèle prédictif météo ?"
   ]
  },
  {
   "cell_type": "code",
   "execution_count": null,
   "id": "bc19fd32",
   "metadata": {
    "vscode": {
     "languageId": "javascript"
    }
   },
   "outputs": [],
   "source": [
    "let storedCollection = pm.environment.get(\"weather_responses\");\n",
    "storedCollection = storedCollection ? JSON.parse(storedCollection) : [];\n",
    "\n",
    "storedCollection.push({\n",
    "    city: pm.variables.get(\"city\"),\n",
    "    temp: data.main.temp,\n",
    "    weather: data.weather[0].main,\n",
    "    humidity: data.main.humidity\n",
    "});\n",
    "\n",
    "pm.environment.set(\"weather_responses\", JSON.stringify(storedCollection));"
   ]
  },
  {
   "cell_type": "markdown",
   "id": "873c3bda",
   "metadata": {},
   "source": [
    "On devrait le transformer en DataFrame"
   ]
  },
  {
   "cell_type": "code",
   "execution_count": null,
   "id": "b26d688a",
   "metadata": {},
   "outputs": [],
   "source": [
    "import json\n",
    "\n",
    "import pandas as pd\n",
    "\n",
    "\n",
    "with open('data.json', 'r', encoding='utf-8') as f:\n",
    "    data = json.load(f)\n",
    "\n",
    "df = pd.DataFrame(data)"
   ]
  },
  {
   "cell_type": "markdown",
   "id": "3ca60278",
   "metadata": {},
   "source": [
    "\n",
    "5. **Ajoutez un script de vérification** qui signale si la température dépasse une valeur critique (ex. 40 °C). Si c’est le cas, générez une alerte simulée."
   ]
  },
  {
   "cell_type": "code",
   "execution_count": null,
   "id": "53685604",
   "metadata": {
    "vscode": {
     "languageId": "javascript"
    }
   },
   "outputs": [],
   "source": [
    "if (data.main.temp > 40) {\n",
    "    pm.test(\"Alerte canicule !\", () => {\n",
    "        pm.expect(data.main.temp).to.be.above(40);\n",
    "    });\n",
    "    console.log(\"Alerte canicule !\")\n",
    "}"
   ]
  },
  {
   "cell_type": "markdown",
   "id": "cdc622ab",
   "metadata": {},
   "source": [
    "\n",
    "6. **Récupérez la météo actuelle et l’heure de lever/coucher du soleil**, puis ajoutez un test logique qui déduit s’il fait jour ou nuit au moment de l’appel API."
   ]
  },
  {
   "cell_type": "code",
   "execution_count": null,
   "id": "849200bb",
   "metadata": {
    "vscode": {
     "languageId": "javascript"
    }
   },
   "outputs": [],
   "source": [
    "let storedCollection = pm.environment.get(\"weather_responses\");\n",
    "storedCollection = storedCollection ? JSON.parse(storedCollection) : [];\n",
    "\n",
    "storedCollection.push({\n",
    "    city: pm.variables.get(\"city\"),\n",
    "    temp: data.main.temp,\n",
    "    weather: data.weather[0].main,\n",
    "    humidity: data.main.humidity,\n",
    "    sunrise: data.sys.sunrise,\n",
    "    sunset: data.sys.sunset\n",
    "});\n",
    "\n",
    "pm.environment.set(\"weather_responses\", JSON.stringify(storedCollection));\n",
    "\n",
    "if((data.dt > data.sys.sunrise) & (data.dt < data.sys.sunset)){\n",
    "    console.log(\"Il fait jour à \" + pm.variables.get(\"city\"))\n",
    "}\n",
    "else{\n",
    "    console.log(\"Il fait nuit à \" + pm.variables.get(\"city\"))\n",
    "}"
   ]
  },
  {
   "cell_type": "markdown",
   "id": "1d0fd516",
   "metadata": {},
   "source": [
    "7. **Comparez deux villes** (ex. Alger vs Montréal) sur au moins 3 indicateurs météo et générez une sortie structurée dans la console. Comment automatiser cette comparaison dans une collection ?"
   ]
  },
  {
   "cell_type": "code",
   "execution_count": null,
   "id": "f1c67849",
   "metadata": {
    "vscode": {
     "languageId": "javascript"
    }
   },
   "outputs": [],
   "source": [
    "weather_description = \"Le ciel est mystérieux\"\n",
    "if(pm.environment.get(\"lastWeather\") == \"clear\"){\n",
    "    weather_description = \"Le ciel est dégagé\"\n",
    "}\n",
    "else if(pm.environment.get(\"lastWeather\") == \"rain\"){\n",
    "    weather_description = \"Il pleut des cordes\"\n",
    "}\n",
    "else if(pm.environment.get(\"lastWeather\") == \"clouds\"){\n",
    "    weather_description = \"Le ciel est nuageux\"\n",
    "}\n",
    "\n",
    "console.log(\"Il fait \" + data.main.temp + \" degrés à \" + data.name + \" tandis qu'il fait \" + pm.environment.get(\"lastTemp\") + \" degrés à \" + pm.environment.get(\"lastCity\"))\n",
    "console.log(\"L'humidité est de \" + data.main.humidity + \" % à \" + data.name + \" tandis qu'ele est de \" + pm.environment.get(\"lastHumidity\") + \" % à \" + pm.environment.get(\"lastCity\"))\n",
    "console.log(weather_description + \" à \" + data.name + \" tandis que \" + pm.environment.get(\"lastWeatherDescription\") + \" à \" + pm.environment.get(\"lastCity\"))\n",
    "\n",
    "// 🔁 Ici tu extrais la température pour la réutiliser :\n",
    "pm.environment.set(\"lastCity\", data.name);\n",
    "pm.environment.set(\"lastTemp\", data.main.temp);\n",
    "pm.environment.set(\"lastWeather\", data.weather[0].main);\n",
    "pm.environment.set(\"lastHumidity\", data.main.humidity);\n",
    "pm.environment.set(\"lastWeatherDescription\", weather_description)"
   ]
  }
 ],
 "metadata": {
  "kernelspec": {
   "display_name": ".venv",
   "language": "python",
   "name": "python3"
  },
  "language_info": {
   "codemirror_mode": {
    "name": "ipython",
    "version": 3
   },
   "file_extension": ".py",
   "mimetype": "text/x-python",
   "name": "python",
   "nbconvert_exporter": "python",
   "pygments_lexer": "ipython3",
   "version": "3.10.11"
  }
 },
 "nbformat": 4,
 "nbformat_minor": 5
}
