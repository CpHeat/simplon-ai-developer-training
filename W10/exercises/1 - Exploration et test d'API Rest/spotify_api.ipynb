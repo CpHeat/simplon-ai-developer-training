{
 "cells": [
  {
   "cell_type": "markdown",
   "id": "86f93a4e",
   "metadata": {},
   "source": [
    "**1. Créer un compte développeur sur https://developer.spotify.com**"
   ]
  },
  {
   "cell_type": "markdown",
   "id": "9cea6393",
   "metadata": {},
   "source": [
    "**2. Créer une app**"
   ]
  },
  {
   "cell_type": "markdown",
   "id": "697d324c",
   "metadata": {},
   "source": [
    "**3. Récupérer le Client ID et le Client Secret et les stocker dans un fichier .env**"
   ]
  },
  {
   "cell_type": "code",
   "execution_count": null,
   "id": "c082fc62",
   "metadata": {},
   "outputs": [],
   "source": [
    "SPOTIFY_CLIENT_ID=********\n",
    "SPOTIFY_CLIENT_SECRET=********"
   ]
  },
  {
   "cell_type": "markdown",
   "id": "1f367317",
   "metadata": {},
   "source": [
    "**4. Dans un fichier Python, utiliser python-dotenv pour récupérer ces credentials :**"
   ]
  },
  {
   "cell_type": "code",
   "execution_count": null,
   "id": "6579c8fb",
   "metadata": {},
   "outputs": [],
   "source": [
    "import os\n",
    "\n",
    "from dotenv import load_dotenv\n",
    "\n",
    "\n",
    "load_dotenv()\n",
    "\n",
    "client_id = os.getenv(\"SPOTIFY_CLIENT_ID\")\n",
    "client_secret = os.getenv(\"SPOTIFY_CLIENT_SECRET\")"
   ]
  },
  {
   "cell_type": "markdown",
   "id": "7347db9b",
   "metadata": {},
   "source": [
    "**5. Créer une fonction get_token qui gère l'authentification et la récupération du token nécessaire à l'utilisation de l'API**"
   ]
  },
  {
   "cell_type": "code",
   "execution_count": null,
   "id": "4b3f1dbc",
   "metadata": {},
   "outputs": [],
   "source": [
    "import base64\n",
    "import json\n",
    "\n",
    "from requests import post\n",
    "\n",
    "\n",
    "def get_token():\n",
    "    auth_string = client_id + \":\" + client_secret\n",
    "    auth_bytes = auth_string.encode(\"utf-8\")\n",
    "    auth_base64 = str(base64.b64encode(auth_bytes), \"utf-8\")\n",
    "\n",
    "    url = \"https://accounts.spotify.com/api/token\"\n",
    "    headers = {\n",
    "        \"Authorization\": \"Basic \" + auth_base64,\n",
    "        \"Content-Type\": \"application/x-www-form-urlencoded\"\n",
    "    }\n",
    "    data = {\"grant_type\": \"client_credentials\"}\n",
    "\n",
    "    result = post(url, headers=headers, data=data)\n",
    "    json_result = json.loads(result.content)\n",
    "    token = json_result[\"access_token\"]\n",
    "    return token\n",
    "\n",
    "token = get_token()\n",
    "print(token)"
   ]
  },
  {
   "cell_type": "markdown",
   "id": "ac05d886",
   "metadata": {},
   "source": [
    "**6. Créer une fonction get_auth_headers qui génère le header à passer lors de nos requêtes à l'API**"
   ]
  },
  {
   "cell_type": "code",
   "execution_count": null,
   "id": "9af63ce2",
   "metadata": {},
   "outputs": [],
   "source": [
    "def get_auth_header(token):\n",
    "    return {\"Authorization\": \"Bearer \" + token}"
   ]
  },
  {
   "cell_type": "markdown",
   "id": "2fafcb7b",
   "metadata": {},
   "source": [
    "**7. Créer une fonction search_for_artist pour récupérer l'ID de l'artiste recherché**"
   ]
  },
  {
   "cell_type": "code",
   "execution_count": null,
   "id": "d3456225",
   "metadata": {},
   "outputs": [],
   "source": [
    "from requests import get\n",
    "\n",
    "\n",
    "def search_for_artist(token, artist_name):\n",
    "    url = \"https://api.spotify.com/v1/search\"\n",
    "    headers = get_auth_header(token)\n",
    "    query = f\"?q={artist_name}&type=artist&limit=1\"\n",
    "\n",
    "    query_url = url + query\n",
    "    result = get(query_url, headers=headers)\n",
    "    json_result = json.loads(result.content)[\"artists\"][\"items\"]\n",
    "    if len(json_result) == 0:\n",
    "        print(\"No artist found\")\n",
    "        return None\n",
    "    return json_result[0]\n",
    "\n",
    "result = search_for_artist(token, \"ACDC\")\n",
    "artist_id = result[\"id\"]\n",
    "print(artist_id)"
   ]
  },
  {
   "cell_type": "markdown",
   "id": "ac7b71d7",
   "metadata": {},
   "source": [
    "**8. Créer une fonction get_songs_by_artist pour récupérer la liste des 10 chansons les plus populaires d'un artiste**"
   ]
  },
  {
   "cell_type": "code",
   "execution_count": null,
   "id": "4618a7ed",
   "metadata": {},
   "outputs": [],
   "source": [
    "def get_songs_by_artist(token, artist_id):\n",
    "    url = f\"https://api.spotify.com/v1/artists/{artist_id}/top-tracks?country=US\"    \n",
    "    headers = get_auth_header(token)\n",
    "\n",
    "    result = get(url, headers=headers)\n",
    "    json_result = json.loads(result.content)[\"tracks\"]\n",
    "    return json_result\n",
    "\n",
    "songs = get_songs_by_artist(token, artist_id)\n",
    "\n",
    "for idx, song in enumerate(songs):\n",
    "    print(f\"{idx + 1}. {song['name']}\")"
   ]
  }
 ],
 "metadata": {
  "language_info": {
   "name": "python"
  }
 },
 "nbformat": 4,
 "nbformat_minor": 5
}
