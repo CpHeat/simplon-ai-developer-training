{
 "cells": [
  {
   "cell_type": "markdown",
   "id": "39f2d56d",
   "metadata": {},
   "source": [
    "# 🐍 Introduction à Python - Jour 2"
   ]
  },
  {
   "cell_type": "markdown",
   "id": "f461f4c4",
   "metadata": {},
   "source": [
    "Dans ce deuxième jour nous allons apprendre :  \n",
    "- à structurer notre code avec des **fonctions**\n",
    "- à manipuler des **structures de données** comme les **listes** et les **dictionnaires**\n",
    "- à **lire/écrire dans des fichiers**."
   ]
  },
  {
   "cell_type": "markdown",
   "id": "d04762e5",
   "metadata": {},
   "source": [
    "\n",
    "____  \n",
    "  \n"
   ]
  },
  {
   "cell_type": "markdown",
   "id": "6f59f042",
   "metadata": {},
   "source": [
    "## 🧱 1. Fonctions personnalisées"
   ]
  },
  {
   "cell_type": "markdown",
   "id": "1beef0af",
   "metadata": {},
   "source": [
    "Une fonction est un **bloc de code réutilisable** qui permet de réaliser une tâche spécifique.  \n",
    "\n",
    "Pourquoi utiliser des fonctions ?\n",
    "- Pour **éviter les répétitions**\n",
    "- Pour **structurer** son code\n",
    "- Pour **faciliter les tests**\n",
    "- Pour **réutiliser** du code dans plusieurs contextes  "
   ]
  },
  {
   "cell_type": "markdown",
   "id": "45972344",
   "metadata": {},
   "source": [
    "### a. Fonction sans valeur de retour"
   ]
  },
  {
   "cell_type": "markdown",
   "id": "463e4c95",
   "metadata": {},
   "source": [
    "Une fonction **sans `return`** exécute des instructions mais ne renvoie rien (elle retourne `None` par défaut)."
   ]
  },
  {
   "cell_type": "code",
   "execution_count": 5,
   "id": "5cd6b39f",
   "metadata": {},
   "outputs": [
    {
     "name": "stdout",
     "output_type": "stream",
     "text": [
      "Bonjour !\n",
      "None\n"
     ]
    }
   ],
   "source": [
    "from __future__ import annotations\n",
    "\n",
    "# Fonction sans paramètres\n",
    "def say_hello():\n",
    "    print(f\"Bonjour !\")\n",
    "\n",
    "returned_value = say_hello()\n",
    "print(returned_value)"
   ]
  },
  {
   "cell_type": "markdown",
   "id": "3bb2c6ae",
   "metadata": {},
   "source": [
    "### b. Fonction avec paramètres"
   ]
  },
  {
   "cell_type": "code",
   "execution_count": null,
   "id": "27ff79dc",
   "metadata": {},
   "outputs": [],
   "source": [
    "# Les paramètres sont les noms utilisés lors de la définition de la fonction. \n",
    "def say_hello(nom: str):\n",
    "    print(f\"Bonjour {nom} !\")\n",
    "\n",
    "# Les arguments sont les valeurs que vous passez à la fonction lorsque vous l’appelez.\n",
    "say_hello(nom=\"Alice\")\n",
    "say_hello(nom=\"Zo\")"
   ]
  },
  {
   "cell_type": "markdown",
   "id": "cdfe4894",
   "metadata": {},
   "source": [
    "### c. Fonction avec valeur de retour"
   ]
  },
  {
   "cell_type": "markdown",
   "id": "05e3085f",
   "metadata": {},
   "source": [
    "Une fonction peut **renvoyer un résultat** avec le mot-clé `return`.  \n",
    "C’est utile pour stocker le résultat d’un calcul ou d’une opération."
   ]
  },
  {
   "cell_type": "code",
   "execution_count": null,
   "id": "3265c310",
   "metadata": {},
   "outputs": [],
   "source": [
    "def add(a: int, b: int) -> int:\n",
    "    return a + b\n",
    "\n",
    "result = add(a=3, b=4)\n",
    "print(result)"
   ]
  },
  {
   "cell_type": "markdown",
   "id": "903dd4d3",
   "metadata": {},
   "source": [
    "### d. Bonnes pratiques pour écrire une fonction Python\n",
    "\n",
    "Une fonction doit faire **une seule chose**  \n",
    "- Elle doit avoir une responsabilité unique.\n",
    "- Cela rend le code plus facile à tester, maintenir et réutiliser.\n",
    "\n",
    "Le nom doit être **clair et explicite**\n",
    "- Il doit refléter précisément l’action de la fonction.\n",
    "- Exemples : `convert_temperature`, `calculate_average`, `send_email`.\n",
    "\n",
    "Utiliser une **docstring**\n",
    "- Explique brièvement ce que fait la fonction, ses paramètres et sa valeur de retour.\n",
    "- Suivre les recommandations de la [PEP 257](https://peps.python.org/pep-0257/).\n",
    "\n",
    "Spécifier les **types (type hints)**\n",
    "- Améliore la lisibilité et facilite la détection d’erreurs.\n",
    "- Suivre la [PEP 484](https://peps.python.org/pep-0484/) (type hints).\n",
    "- Peut être complété par :\n",
    "  - [PEP 563](https://peps.python.org/pep-0563/) (évaluation différée des annotations)\n",
    "  - [PEP 604](https://peps.python.org/pep-0604/) (`int | None` syntaxe moderne)\n",
    "\n",
    "**Exemple :** \n",
    "```python\n",
    "def twice(x: float) -> float:\n",
    "    \"\"\"Multiplie une valeur par 2 et retourne le résultat.\"\"\"\n",
    "    return x * 2"
   ]
  },
  {
   "cell_type": "markdown",
   "id": "daac3be8",
   "metadata": {},
   "source": [
    "### e. Exercices sur les fonctions"
   ]
  },
  {
   "cell_type": "markdown",
   "id": "bfe958ac",
   "metadata": {},
   "source": [
    "🧩 Créez une fonction `display_odd(start: int, end: int)` qui affiche tous les nombres pairs entre `start` et `end` (inclus). \n",
    "\n",
    "- le nombre de caractères\n",
    "- le nombre de mots\n",
    "- la phrase inversée\n",
    "\n",
    "💡 Utilisez une boucle for et l’opérateur modulo."
   ]
  },
  {
   "cell_type": "code",
   "execution_count": 7,
   "id": "85b5149f",
   "metadata": {},
   "outputs": [
    {
     "name": "stdout",
     "output_type": "stream",
     "text": [
      "8\n",
      "10\n",
      "12\n"
     ]
    }
   ],
   "source": [
    "def display_odd(start: int, end: int):\n",
    "    \n",
    "    for i in range(start, end+1):\n",
    "        if i % 2 == 0:\n",
    "            print(i)\n",
    "            \n",
    "display_odd(7, 12)"
   ]
  },
  {
   "cell_type": "markdown",
   "id": "08d20d00",
   "metadata": {},
   "source": [
    "\\\n",
    "\\\n",
    "\\\n",
    "🧩 Créez une fonction `longest_word(sentence: str)` qui retourne le mot le plus long d’une phrase saisie.\n",
    "\n",
    "💡 Pensez à .split() et à len()."
   ]
  },
  {
   "cell_type": "code",
   "execution_count": null,
   "id": "d83cdb55",
   "metadata": {},
   "outputs": [
    {
     "name": "stdout",
     "output_type": "stream",
     "text": [
      "Le plus long mot est qu'est-ce\n"
     ]
    }
   ],
   "source": [
    "def longest_word(sentence: str):\n",
    "    mots = sentence.split(\" \")    \n",
    "    word_size = 0\n",
    "    \n",
    "    for mot in mots:\n",
    "        if len(mot) > word_size:\n",
    "            word_size = len(mot)\n",
    "            lengthy_word = mot\n",
    "            \n",
    "    print(f\"Le plus long mot est {lengthy_word}\")\n",
    "    \n",
    "longest_word(\"que quoi qui qu'est-ce\")"
   ]
  },
  {
   "cell_type": "markdown",
   "id": "25818e26",
   "metadata": {},
   "source": [
    "\\\n",
    "\\\n",
    "\\\n",
    "🧩 Créez une fonction `count_vowels(text: str)` qui compte le nombre de voyelles (a, e, i, o, u, y) dans un texte."
   ]
  },
  {
   "cell_type": "code",
   "execution_count": null,
   "id": "5726206b",
   "metadata": {},
   "outputs": [
    {
     "name": "stdout",
     "output_type": "stream",
     "text": [
      "\"ceci est une phrase test voyons voir\" contient 13 voyelles\n"
     ]
    }
   ],
   "source": [
    "def count_vowels(text: str):\n",
    "    vowels = (\"a\", \"e\", \"i\", \"o\", \"u\", \"y\")\n",
    "    vowels_count = 0\n",
    "    \n",
    "    for letter in text.lower():\n",
    "        if letter in vowels:\n",
    "            vowels_count += 1\n",
    "            \n",
    "    print(f'\"{text}\" contient {vowels_count} voyelles')\n",
    "    \n",
    "count_vowels(\"ceci est une phrase test voyons voir\")"
   ]
  },
  {
   "cell_type": "markdown",
   "id": "53e2d5d5",
   "metadata": {},
   "source": [
    "\\\n",
    "\\\n",
    "\\\n",
    "🧩 Créez un petit menu interactif dans une fonction principale menu() qui permet à l’utilisateur de :  \n",
    "- Taper 1 pour convertir une température  \n",
    "- Taper 2 pour afficher les mots les plus longs dans une phrase  \n",
    "- Taper 3 pour quitter  \n",
    "\n",
    "Chaque option appelle une fonction spécifique."
   ]
  },
  {
   "cell_type": "code",
   "execution_count": 18,
   "id": "fd98de59",
   "metadata": {},
   "outputs": [
    {
     "name": "stdout",
     "output_type": "stream",
     "text": [
      "Mauvais choix\n"
     ]
    }
   ],
   "source": [
    "def convert_temperature():\n",
    "    celsius_temperature = int(input(\"Entrez une température Celsius\"))\n",
    "    print(f\"{celsius_temperature}°C équivaut à {celsius_temperature * (9/5) + 32}°F\\n\")\n",
    "    \n",
    "def menu():\n",
    "    choice = input(\"\"\"Taper 1 pour convertir une température\n",
    "- Taper 2 pour afficher les mots les plus longs dans une phrase\n",
    "- Taper 3 pour quitter\"\"\")\n",
    "    \n",
    "    match choice:\n",
    "        case 1:\n",
    "            convert_temperature()            \n",
    "        case 2:\n",
    "            text = input(\"Entrez une phrase :\")\n",
    "            longest_word(text)\n",
    "        case 3:\n",
    "            exit\n",
    "        case __:\n",
    "            print(\"Mauvais choix\")\n",
    "    \n",
    "menu()"
   ]
  },
  {
   "cell_type": "markdown",
   "id": "d3122626",
   "metadata": {},
   "source": [
    "\n",
    "____  \n",
    "  \n"
   ]
  },
  {
   "cell_type": "markdown",
   "id": "d93f0a26",
   "metadata": {},
   "source": [
    "## 📋 2. Listes"
   ]
  },
  {
   "cell_type": "markdown",
   "id": "dea08b94",
   "metadata": {},
   "source": [
    "Les listes sont des **collections ordonnées**, **modifiables** et **hétérogènes** d’objets en Python.\n",
    "\n",
    "Elles permettent de regrouper plusieurs valeurs dans une seule variable.\n",
    "\\\n",
    "\\\n",
    "\\\n",
    "📌 Syntaxe de base :\n",
    "```python\n",
    "ma_liste = [valeur1, valeur2, valeur3]"
   ]
  },
  {
   "cell_type": "code",
   "execution_count": null,
   "id": "ec12518a",
   "metadata": {},
   "outputs": [],
   "source": [
    "fruits = [\"pomme\", \"banane\", \"cerise\"]\n",
    "print(fruits)\n",
    "print(fruits[1])  # accès par index\n",
    "\n",
    "fruits.append(\"orange\")\n",
    "print(fruits)\n",
    "\n",
    "for fruit in fruits:\n",
    "    print(fruit)"
   ]
  },
  {
   "cell_type": "markdown",
   "id": "a7699f7f",
   "metadata": {},
   "source": [
    "### a. Accéder au éléments d'une liste"
   ]
  },
  {
   "cell_type": "markdown",
   "id": "de606ea3",
   "metadata": {},
   "source": [
    "On peut y accéder par indice, les modifier, les parcourir, les trier, etc."
   ]
  },
  {
   "cell_type": "code",
   "execution_count": null,
   "id": "2351c07f",
   "metadata": {},
   "outputs": [],
   "source": [
    "fruits = [\"pomme\", \"banane\", \"cerise\"]\n",
    "\n",
    "# Accès aux éléments\n",
    "print(fruits[0])  # Premier élément\n",
    "print(fruits[-1])  # Dernier élément\n",
    "\n",
    "# Modification\n",
    "fruits[1] = \"kiwi\"\n",
    "print(fruits)"
   ]
  },
  {
   "cell_type": "markdown",
   "id": "a301b2e0",
   "metadata": {},
   "source": [
    "### b. Manipulations classiques des listes"
   ]
  },
  {
   "cell_type": "markdown",
   "id": "397e8a99",
   "metadata": {},
   "source": [
    "- `.append(valeur)` → ajoute à la fin\n",
    "- `.insert(index, valeur)` → insère à une position\n",
    "- `.remove(valeur)` → supprime la première occurrence\n",
    "- `.pop([index])` → supprime et retourne l’élément à l’index\n",
    "- `.sort()` → trie la liste (croissant)\n",
    "- `.reverse()` → inverse l’ordre\n",
    "- `.count(valeur)` → compte le nombre d'occurrences\n",
    "- `.index(valeur)` → donne la position"
   ]
  },
  {
   "cell_type": "code",
   "execution_count": 24,
   "id": "a2800ad6",
   "metadata": {},
   "outputs": [
    {
     "name": "stdout",
     "output_type": "stream",
     "text": [
      "Ajouts : [3, 1, 100, 4, 1, 5, 9]\n",
      "Après suppression : [3, 100, 4, 1, 5, 9]\n",
      "Dernier retiré : 9\n",
      "Inversé : [5, 1, 4, 100, 3]\n",
      "Trié : [1, 3, 4, 5, 100]\n"
     ]
    }
   ],
   "source": [
    "nombres = [3, 1, 4, 1, 5]\n",
    "\n",
    "nombres.append(9)\n",
    "nombres.insert(2, 100)\n",
    "print(\"Ajouts :\", nombres)\n",
    "\n",
    "nombres.remove(1)\n",
    "print(\"Après suppression :\", nombres)\n",
    "\n",
    "val = nombres.pop()\n",
    "print(\"Dernier retiré :\", val)\n",
    "\n",
    "\n",
    "nombres.reverse()\n",
    "print(\"Inversé :\", nombres)\n",
    "\n",
    "nombres.sort()\n",
    "print(\"Trié :\", nombres)"
   ]
  },
  {
   "cell_type": "markdown",
   "id": "01f58688",
   "metadata": {},
   "source": [
    "### c. Parcours de liste"
   ]
  },
  {
   "cell_type": "markdown",
   "id": "d5b22fd3",
   "metadata": {},
   "source": [
    "C’est une opération très fréquente, par exemple pour afficher chaque élément ou effectuer un traitement."
   ]
  },
  {
   "cell_type": "code",
   "execution_count": null,
   "id": "8c99321e",
   "metadata": {},
   "outputs": [],
   "source": [
    "animaux = [\"chat\", \"chien\", \"lapin\"]\n",
    "\n",
    "# Boucle simple\n",
    "for animal in animaux:\n",
    "    print(animal)\n",
    "\n",
    "# Avec index\n",
    "for i in range(len(animaux)):\n",
    "    print(f\"{i} : {animaux[i]}\")"
   ]
  },
  {
   "cell_type": "markdown",
   "id": "06ba0e4d",
   "metadata": {},
   "source": [
    "### d. Listes imbriquées"
   ]
  },
  {
   "cell_type": "markdown",
   "id": "9c3516eb",
   "metadata": {},
   "source": [
    "On peut avoir des listes **à l’intérieur de listes** : très utile pour des tableaux, matrices ou bases de données simples."
   ]
  },
  {
   "cell_type": "code",
   "execution_count": 25,
   "id": "decc6f65",
   "metadata": {},
   "outputs": [
    {
     "name": "stdout",
     "output_type": "stream",
     "text": [
      "[1, 2, 3]\n",
      "6\n"
     ]
    }
   ],
   "source": [
    "matrice = [\n",
    "    [1, 2, 3],\n",
    "    [4, 5, 6],\n",
    "    [7, 8, 9]\n",
    "]\n",
    "\n",
    "print(matrice[0])       # Première ligne\n",
    "print(matrice[1][2])    # Ligne 2, colonne 3 : élément 6"
   ]
  },
  {
   "cell_type": "markdown",
   "id": "4a4aec98",
   "metadata": {},
   "source": [
    "### e. ⚡️ Listes en compréhension"
   ]
  },
  {
   "cell_type": "markdown",
   "id": "0817d8b3",
   "metadata": {},
   "source": [
    "Une **liste en compréhension** permet de créer une nouvelle liste **à partir d’une autre**, en appliquant une **transformation** ou un **filtrage**, de manière très concise.\n",
    "\\\n",
    "\\\n",
    "\\\n",
    "📌 Syntaxe de base :\n",
    "```python\n",
    "nouvelle_liste = [expression for élément in iterable if condition]"
   ]
  },
  {
   "cell_type": "code",
   "execution_count": 26,
   "id": "78da6b49",
   "metadata": {},
   "outputs": [
    {
     "name": "stdout",
     "output_type": "stream",
     "text": [
      "[0, 1, 4, 9, 16, 25, 36, 49, 64, 81]\n",
      "['y', 'o', 'e', 'a', 'i', 'u', 'e']\n"
     ]
    }
   ],
   "source": [
    "# Création d'une liste de carrés\n",
    "carres = [x**2 for x in range(10)]\n",
    "print(carres)\n",
    "\n",
    "# Extraire les voyelles d'une phrase\n",
    "phrase = \"Python est magique\"\n",
    "voyelles = [c for c in phrase if c.lower() in \"aeiouy\"]\n",
    "print(voyelles)"
   ]
  },
  {
   "cell_type": "markdown",
   "id": "0a44c208",
   "metadata": {},
   "source": [
    "On peut ajouter une condition à la fin pour **filtrer** les éléments."
   ]
  },
  {
   "cell_type": "code",
   "execution_count": null,
   "id": "12cba40d",
   "metadata": {},
   "outputs": [],
   "source": [
    "# Nombres pairs entre 0 et 20\n",
    "pairs = [x for x in range(21) if x % 2 == 0]\n",
    "print(pairs)"
   ]
  },
  {
   "cell_type": "markdown",
   "id": "5ddcd8b7",
   "metadata": {},
   "source": [
    "### f. Exercices sur les listes"
   ]
  },
  {
   "cell_type": "markdown",
   "id": "eec13e51",
   "metadata": {},
   "source": [
    "🧩 Vous disposez d’une liste de notes sur 20.  \n",
    "\n",
    "Affichez :\n",
    "- la note maximale,\n",
    "- la note minimale,\n",
    "- la moyenne des notes,\n",
    "- le nombre de notes supérieures à 15."
   ]
  },
  {
   "cell_type": "code",
   "execution_count": 38,
   "id": "34a52421",
   "metadata": {},
   "outputs": [
    {
     "name": "stdout",
     "output_type": "stream",
     "text": [
      "Best note : 18\n",
      "Worst note : 9\n",
      "Moyenne des notes : 13.428571428571429\n",
      "Nombre de bonnes notes : 2\n"
     ]
    }
   ],
   "source": [
    "notes = [12, 15, 17, 9, 13, 18, 10]\n",
    "\n",
    "notes.sort()\n",
    "best_note = notes[-1]\n",
    "worst_note = notes[0]\n",
    "\n",
    "total_notes = 0\n",
    "good_note_index = -1\n",
    "for i, note in enumerate(notes):\n",
    "    total_notes += note\n",
    "    if note > 15:\n",
    "        good_note_index = i\n",
    "    \n",
    "moyenne_notes = total_notes / len(notes)\n",
    "good_notes_count = len(notes) - (good_note_index - 1)\n",
    "\n",
    "print(f\"Best note : {best_note}\")\n",
    "print(f\"Worst note : {worst_note}\")\n",
    "print(f\"Moyenne des notes : {moyenne_notes}\")\n",
    "print(f\"Nombre de bonnes notes : {good_notes_count}\")"
   ]
  },
  {
   "cell_type": "markdown",
   "id": "638471fd",
   "metadata": {},
   "source": [
    "\\\n",
    "\\\n",
    "\\\n",
    "🧩 Créez une liste en compréhension contenant les carrés des entiers entre 0 et 30 qui sont :\n",
    "- impairs\n",
    "- et dont le carré est supérieur à 100  \n",
    "\n",
    "Résultat attendu : [121, 169, 225, 289, 361, 441, 529, 625, 729]"
   ]
  },
  {
   "cell_type": "code",
   "execution_count": 41,
   "id": "4794b034",
   "metadata": {},
   "outputs": [
    {
     "name": "stdout",
     "output_type": "stream",
     "text": [
      "[121, 169, 225, 289, 361, 441, 529, 625, 729, 841]\n"
     ]
    }
   ],
   "source": [
    "\n",
    "carres = [ nb ** 2 for nb in range(0,31) if nb % 2 != 0 and nb ** 2 > 100]\n",
    "\n",
    "print(carres)"
   ]
  },
  {
   "cell_type": "markdown",
   "id": "5ecd50c9",
   "metadata": {},
   "source": [
    "\\\n",
    "\\\n",
    "\\\n",
    "🧩 Écrivez une fonction `clean(liste: lst)` qui :  \n",
    "- prend une liste contenant des nombres et des chaînes\n",
    "- retourne une nouvelle liste ne contenant que les nombres positifs, arrondis à l’entier inférieur"
   ]
  },
  {
   "cell_type": "code",
   "execution_count": 42,
   "id": "9d1bc86a",
   "metadata": {},
   "outputs": [
    {
     "name": "stdout",
     "output_type": "stream",
     "text": [
      "[3, 8, 9]\n"
     ]
    }
   ],
   "source": [
    "# Exemple :\n",
    "donnees = [3.5, \"ok\", -2, 8, \"erreur\", 9.99]\n",
    "# Résultat attendu : [3, 8, 9]\n",
    "\n",
    "def clean(liste: list):\n",
    "    cleaned_list = []\n",
    "    \n",
    "    for element in liste:\n",
    "        if type(element) == float:\n",
    "            if element > 0:\n",
    "                element = int(element)\n",
    "                cleaned_list.append(element)\n",
    "        elif type(element) == int:            \n",
    "            if element > 0:                \n",
    "                cleaned_list.append(element)\n",
    "                \n",
    "    print(cleaned_list)\n",
    "\n",
    "clean(donnees)"
   ]
  },
  {
   "cell_type": "markdown",
   "id": "7a82956b",
   "metadata": {},
   "source": [
    "___"
   ]
  },
  {
   "cell_type": "markdown",
   "id": "7bc400b4",
   "metadata": {},
   "source": [
    "## 📒 3. Dictionnaires"
   ]
  },
  {
   "cell_type": "markdown",
   "id": "f2d8dd6b",
   "metadata": {},
   "source": [
    "Un dictionnaire est une structure de données **ordonnée** (depuis Python 3.7) qui associe une **clé** à une **valeur**.\n",
    "\\\n",
    "\\\n",
    "\\\n",
    "📌 Syntaxe de base :\n",
    "```python\n",
    "my_dictionary = {\n",
    "    \"clé1\": \"valeur1\",\n",
    "    \"clé2\": \"valeur2\"\n",
    "}\n",
    "```\n",
    "\n",
    "Les clés peuvent être des chaînes, des entiers, ou tout type immuable.  \n",
    "Les valeurs peuvent être n’importe quoi : int, str, liste, dictionnaire imbriqué, etc."
   ]
  },
  {
   "cell_type": "code",
   "execution_count": 1,
   "id": "dcc30937",
   "metadata": {},
   "outputs": [
    {
     "name": "stdout",
     "output_type": "stream",
     "text": [
      "Alice\n",
      "[15, 18, 12]\n"
     ]
    }
   ],
   "source": [
    "student = {\n",
    "    \"nom\": \"Alice\",\n",
    "    \"age\": 23,\n",
    "    \"notes\": [15, 18, 12]\n",
    "}\n",
    "\n",
    "print(student[\"nom\"])\n",
    "print(student[\"notes\"])"
   ]
  },
  {
   "cell_type": "markdown",
   "id": "6a65f25f",
   "metadata": {},
   "source": [
    "### a. Ajout modification, suppression"
   ]
  },
  {
   "cell_type": "code",
   "execution_count": 2,
   "id": "59e2b60b",
   "metadata": {},
   "outputs": [
    {
     "name": "stdout",
     "output_type": "stream",
     "text": [
      "{'nom': 'Alice', 'age': 24, 'email': 'alice@example.com'}\n"
     ]
    }
   ],
   "source": [
    "# Ajout d'un champ\n",
    "student[\"email\"] = \"alice@example.com\"\n",
    "\n",
    "# Modification\n",
    "student[\"age\"] = 24\n",
    "\n",
    "# Suppression\n",
    "del student[\"notes\"]\n",
    "\n",
    "print(student)"
   ]
  },
  {
   "cell_type": "markdown",
   "id": "5e216641",
   "metadata": {},
   "source": [
    "### b. Méthodes utiles des dictionnaires"
   ]
  },
  {
   "cell_type": "code",
   "execution_count": null,
   "id": "4ef75192",
   "metadata": {},
   "outputs": [],
   "source": [
    "# Récupération de toutes les clés\n",
    "print(student.keys())\n",
    "\n",
    "# Récupération de toutes les valeurs\n",
    "print(student.values())\n",
    "\n",
    "# Récupération clé/valeur\n",
    "for key, value in student.items():\n",
    "    print(key, \":\", value)"
   ]
  },
  {
   "cell_type": "markdown",
   "id": "24624a65",
   "metadata": {},
   "source": [
    "### c. Dictionnaires imbriqués"
   ]
  },
  {
   "cell_type": "markdown",
   "id": "7ad4f2d7",
   "metadata": {},
   "source": [
    "Un dictionnaire peut contenir un autre dictionnaire, très utile pour modéliser des objets complexes."
   ]
  },
  {
   "cell_type": "code",
   "execution_count": null,
   "id": "5d0e7a99",
   "metadata": {},
   "outputs": [],
   "source": [
    "classroom = {\n",
    "    \"student1\": {\"name\": \"Alice\", \"age\": 23},\n",
    "    \"student2\": {\"name\": \"Bob\", \"age\": 25}\n",
    "}\n",
    "\n",
    "print(classroom[\"student1\"][\"name\"])"
   ]
  },
  {
   "cell_type": "markdown",
   "id": "188d5551",
   "metadata": {},
   "source": [
    "### d. Techniques utiles sur les dictionnaires"
   ]
  },
  {
   "cell_type": "markdown",
   "id": "e0ffe2db",
   "metadata": {},
   "source": [
    "Il est possible de transformer une liste en dictionnaire (avec `enumerate` ou `zip`)"
   ]
  },
  {
   "cell_type": "code",
   "execution_count": 3,
   "id": "6b6bb5f1",
   "metadata": {},
   "outputs": [
    {
     "name": "stdout",
     "output_type": "stream",
     "text": [
      "{0: 'Alice', 1: 'Bob', 2: 'Charlie'}\n",
      "{'name': 'Alice', 'age': 23, 'location': 'Paris'}\n"
     ]
    }
   ],
   "source": [
    "# Avec enumerate\n",
    "names = [\"Alice\", \"Bob\", \"Charlie\"]\n",
    "dictionary = {i: name for i, name in enumerate(names)}\n",
    "print(dictionary)\n",
    "\n",
    "# Avec zip\n",
    "keys = [\"name\", \"age\", \"location\"]\n",
    "values = [\"Alice\", 23, \"Paris\"]\n",
    "dictionary = dict(zip(keys, values))\n",
    "print(dictionary)"
   ]
  },
  {
   "cell_type": "markdown",
   "id": "ecb76782",
   "metadata": {},
   "source": [
    "### d. Exercices sur les dictionnaires"
   ]
  },
  {
   "cell_type": "markdown",
   "id": "ee48b46f",
   "metadata": {},
   "source": [
    "🧩 Créez un dictionnaire `person` contenant :\n",
    "- `name` (str),\n",
    "- `age` (int),\n",
    "- `location` (str),\n",
    "- `is_Student` (bool).\n",
    "\n",
    "\n",
    "Affiche un message personnalisé selon si la personne est étudiante ou non :  \n",
    "`\"Alice, 23 ans, vit à Paris et est étudiante.\"` ou `\"Alice, 30 ans, vit à Paris et n'est pas étudiante.\"`"
   ]
  },
  {
   "cell_type": "code",
   "execution_count": null,
   "id": "b362da86",
   "metadata": {},
   "outputs": [
    {
     "name": "stdout",
     "output_type": "stream",
     "text": [
      "Alice, 23 ans, vit à Paris et n'est pas étudiante.\n"
     ]
    }
   ],
   "source": [
    "person = {\n",
    "    \"name\" : \"Alice\",\n",
    "    \"age\" : 19,\n",
    "    \"location\" : \"Bordeaux\",\n",
    "    \"is_student\": False\n",
    "}\n",
    "\n",
    "print(f\"{person[\"name\"]}, {person[\"age\"]} ans, vit à {person['location']} et {\"est\" if person[\"is_student\"] else \"n'est pas\"} étudiante.\")"
   ]
  },
  {
   "cell_type": "markdown",
   "id": "da80ca3c",
   "metadata": {},
   "source": [
    "\\\n",
    "\\\n",
    "\\\n",
    "🧩 Soit le dictionnaire `products` :\n",
    "```python\n",
    "products = {\n",
    "    \"stylo\": 1.5,\n",
    "    \"cahier\": 2.3,\n",
    "    \"souris\": 15.0,\n",
    "    \"clavier\": 25.0,\n",
    "    \"usb\": 8.0\n",
    "}\n",
    "\n",
    "1. Affichez uniquement les produits dont le prix est inférieur à 10€.\n",
    "2. Affichez le prix moyen des produits."
   ]
  },
  {
   "cell_type": "code",
   "execution_count": 11,
   "id": "ae08539b",
   "metadata": {},
   "outputs": [
    {
     "name": "stdout",
     "output_type": "stream",
     "text": [
      "Article valant plus de 10€ :\n",
      "souris\n",
      "clavier\n",
      "La valeur moyenne des articles est de 10.36€\n"
     ]
    }
   ],
   "source": [
    "products = {\n",
    "    \"stylo\": 1.5,\n",
    "    \"cahier\": 2.3,\n",
    "    \"souris\": 15.0,\n",
    "    \"clavier\": 25.0,\n",
    "    \"usb\": 8.0\n",
    "}\n",
    "\n",
    "total_value = 0\n",
    "\n",
    "print(\"Article valant plus de 10€ :\")\n",
    "\n",
    "for key, value in products.items():\n",
    "    \n",
    "    total_value += value\n",
    "    \n",
    "    if value > 10:\n",
    "        print(key)\n",
    "        \n",
    "middle_value = total_value / len(products)\n",
    "\n",
    "print(f\"La valeur moyenne des articles est de {middle_value}€\")"
   ]
  },
  {
   "cell_type": "markdown",
   "id": "04270d20",
   "metadata": {},
   "source": [
    "\\\n",
    "\\\n",
    "\\\n",
    "🧩 On souhaite simuler une commande simple. Soit le dictionnaire des stocks :\n",
    "```python\n",
    "stock = {\n",
    "    \"pomme\": 5,\n",
    "    \"banane\": 3,\n",
    "    \"orange\": 0\n",
    "}\n",
    "\n",
    "1. Demandez à l’utilisateur de saisir un fruit (input).\n",
    "2. Si le fruit existe et est dispo (stock > 0), confirmez la commande et décrémentez le stock.\n",
    "3. Sinon, affichez un message d’erreur."
   ]
  },
  {
   "cell_type": "code",
   "execution_count": 13,
   "id": "fb2c1533",
   "metadata": {},
   "outputs": [
    {
     "name": "stdout",
     "output_type": "stream",
     "text": [
      "Comande confirmée !\n",
      "Nouveau stock de bananes : 2\n"
     ]
    }
   ],
   "source": [
    "stock = {\n",
    "    \"pomme\": 5,\n",
    "    \"banane\": 3,\n",
    "    \"orange\": 0\n",
    "}\n",
    "\n",
    "fruit = input(\"Entrez un fruit :\")\n",
    "\n",
    "if stock[fruit] > 0:\n",
    "    print(\"Comande confirmée !\")\n",
    "    stock[fruit] -= 1\n",
    "    print(f\"Nouveau stock de {fruit}s : {stock[fruit]}\")\n",
    "else:\n",
    "    print(\"Pas en stock\")"
   ]
  },
  {
   "cell_type": "markdown",
   "id": "592e4705",
   "metadata": {},
   "source": [
    "\\\n",
    "\\\n",
    "\\\n",
    "🧩 Créez un dictionnaire `courses` où :\n",
    "- chaque clé est un nom de cours (ex: \"math\", \"python\"),\n",
    "- chaque valeur est une liste de noms d'élèves.\n",
    "\n",
    "1. Affiche tous les élèves inscrits en \"python\".\n",
    "2. Ajoute un nouvel élève dans le cours de ton choix.\n",
    "3. Affiche tous les cours et le nombre d’élèves dans chacun."
   ]
  },
  {
   "cell_type": "code",
   "execution_count": 16,
   "id": "8b4f7a45",
   "metadata": {},
   "outputs": [
    {
     "name": "stdout",
     "output_type": "stream",
     "text": [
      "Elèves inscrits en Python : ['Bob', 'John', 'Rudy']\n",
      "Nombre d'élèves en cours de maths: 4\n",
      "Nombre d'élèves en cours de géo: 3\n",
      "Nombre d'élèves en cours de python: 3\n"
     ]
    }
   ],
   "source": [
    "courses = {\n",
    "    \"maths\": [\"Jean\", \"Jacques\", \"Paul\"],\n",
    "    \"géo\": [\"Jules\", \"Nicolas\", \"Jérôme\"],\n",
    "    \"python\": [\"Bob\", \"John\", \"Rudy\"]\n",
    "}\n",
    "\n",
    "print(\"Elèves inscrits en Python :\", courses[\"python\"])\n",
    "\n",
    "courses[\"maths\"].append(\"Julien\")\n",
    "\n",
    "for course, students in courses.items():\n",
    "    print(f\"Nombre d'élèves en cours de {course}: {len(students)}\")"
   ]
  },
  {
   "cell_type": "markdown",
   "id": "ab42ece1",
   "metadata": {},
   "source": [
    "___"
   ]
  },
  {
   "cell_type": "markdown",
   "id": "01e1e66b",
   "metadata": {},
   "source": [
    "## 📂 4. Lire et écrire dans un fichier texte\n",
    "\n",
    "Travailler avec des fichiers permet de **sauvegarder des données** de manière persistante, même après la fermeture du programme.\n",
    "\n",
    "Python fournit plusieurs méthodes pour **ouvrir, lire, écrire, et modifier** des fichiers texte (`.txt`, `.csv`, etc.).\n",
    "\n",
    "📌 Fonctions clés :\n",
    "- `open(\"fichier.txt\", \"mode\")`\n",
    "- `write()`, `read()`, `readlines()`\n",
    "- `with` : pour gérer automatiquement la fermeture du fichier"
   ]
  },
  {
   "cell_type": "markdown",
   "id": "ccc3a76c",
   "metadata": {},
   "source": [
    "### a. Écrire et lire dans un fichier (mode `w`)"
   ]
  },
  {
   "cell_type": "code",
   "execution_count": 17,
   "id": "a567513a",
   "metadata": {},
   "outputs": [],
   "source": [
    "# Écriture dans un fichier\n",
    "with open(\"exemple.txt\", \"w\") as f:\n",
    "    f.write(\"Bonjour, ceci est un fichier texte.\\n\")\n",
    "    f.write(\"On peut y écrire plusieurs lignes.\")"
   ]
  },
  {
   "cell_type": "code",
   "execution_count": 18,
   "id": "0866c779",
   "metadata": {},
   "outputs": [
    {
     "name": "stdout",
     "output_type": "stream",
     "text": [
      "Bonjour, ceci est un fichier texte.\n",
      "On peut y écrire plusieurs lignes.\n"
     ]
    }
   ],
   "source": [
    "# Lecture du fichier\n",
    "with open(\"exemple.txt\", \"r\") as f:\n",
    "    content = f.read()\n",
    "    print(content)"
   ]
  },
  {
   "cell_type": "code",
   "execution_count": 21,
   "id": "a88cb5d4",
   "metadata": {},
   "outputs": [
    {
     "name": "stdout",
     "output_type": "stream",
     "text": [
      "Ligne lue : Bonjour, ceci est un fichier texte.\n",
      "Ligne lue : On peut y écrire plusieurs lignes.\n",
      "Ligne lue : Ajout d'une troisième ligne.\n"
     ]
    }
   ],
   "source": [
    "# Lire ligne par ligne avec une boucle\n",
    "with open(\"exemple.txt\", \"r\") as f:\n",
    "    for line in f:\n",
    "        print(\"Ligne lue :\", line.strip())  # .strip() supprime le saut de ligne"
   ]
  },
  {
   "cell_type": "markdown",
   "id": "c627211b",
   "metadata": {},
   "source": [
    "### b. Ajouter du contenu sans écraser le contenu existant (mode `a`)"
   ]
  },
  {
   "cell_type": "code",
   "execution_count": 20,
   "id": "e930a9eb",
   "metadata": {},
   "outputs": [],
   "source": [
    "# Ajout d'une ligne à la fin du fichier\n",
    "with open(\"exemple.txt\", \"a\") as f:\n",
    "    f.write(\"\\nAjout d'une troisième ligne.\")"
   ]
  },
  {
   "cell_type": "markdown",
   "id": "6244d446",
   "metadata": {},
   "source": [
    "### c. Exercices sur les fichiers"
   ]
  },
  {
   "cell_type": "markdown",
   "id": "e5daf61b",
   "metadata": {},
   "source": [
    "🧩 **Système de contacts**  \n",
    "\n",
    "1. Demandez à l'utilisateur de saisir un **nom** et un **numéro de téléphone**\n",
    "2. Écrivez ces informations dans un fichier `contacts.txt`, au format : `Nom - Numéro`\n",
    "3. Affichez tous les contacts enregistrés à la fin du programme"
   ]
  },
  {
   "cell_type": "code",
   "execution_count": 22,
   "id": "622e7bb3",
   "metadata": {},
   "outputs": [],
   "source": [
    "name = input(\"Saisissez un nom\")\n",
    "phone_number = input(\"Saisissez un numéro de téléphone\")\n",
    "\n",
    "with open(\"contacts.txt\", \"w\") as f:\n",
    "    f.write(f\"{name} - {phone_number}\")"
   ]
  },
  {
   "cell_type": "markdown",
   "id": "2e230548",
   "metadata": {},
   "source": [
    "___"
   ]
  },
  {
   "cell_type": "markdown",
   "id": "50751df7",
   "metadata": {},
   "source": [
    "🎉 Bravo pour cette journée !  \n",
    "Prochaine étape : la Programmation Orientée Objet (POO) !"
   ]
  }
 ],
 "metadata": {
  "kernelspec": {
   "display_name": ".venv",
   "language": "python",
   "name": "python3"
  },
  "language_info": {
   "codemirror_mode": {
    "name": "ipython",
    "version": 3
   },
   "file_extension": ".py",
   "mimetype": "text/x-python",
   "name": "python",
   "nbconvert_exporter": "python",
   "pygments_lexer": "ipython3",
   "version": "3.12.3"
  }
 },
 "nbformat": 4,
 "nbformat_minor": 5
}
