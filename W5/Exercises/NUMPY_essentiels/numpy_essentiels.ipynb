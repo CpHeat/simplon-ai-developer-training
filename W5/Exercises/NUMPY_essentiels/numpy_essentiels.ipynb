{
 "cells": [
  {
   "cell_type": "markdown",
   "id": "2b3b2b4a",
   "metadata": {},
   "source": [
    "![Numpy](img/numpy.png)"
   ]
  },
  {
   "cell_type": "markdown",
   "id": "f766517b",
   "metadata": {},
   "source": [
    "Bienvenue dans ce notebook d'initiation à **NumPy**, une bibliothèque essentielle pour la data science avec Python.\n",
    "\n",
    "🎯 Objectif : Comprendre l'essentiel de NumPy\n",
    "\n",
    "---\n",
    "\n",
    "## 📌 Sommaire :\n",
    "1. Création de tableaux\n",
    "2. Dimensions et forme\n",
    "3. Indexation & slicing\n",
    "4. Opérations vectorielles\n",
    "5. Fonctions statistiques\n",
    "6. Manipulation et fusion\n",
    "7. Broadcasting\n",
    "\n",
    "---\n"
   ]
  },
  {
   "cell_type": "markdown",
   "id": "70dcafaa",
   "metadata": {},
   "source": [
    "# Introduction"
   ]
  },
  {
   "cell_type": "markdown",
   "id": "67847123",
   "metadata": {},
   "source": [
    "NumPy (**Numerical Python**) est la bibliothèque de base pour le calcul scientifique avec Python. Elle permet de manipuler des structures de données puissantes appelées **arrays** ou **tableaux**, optimisées pour la performance et la simplicité d’usage. NumPy est utilisé par presque toutes les bibliothèques de l’écosystème <a href='https://pydata.org/'>PyData</a> (comme **Pandas**, **Scikit-learn**, **SciPy**) et constitue une compétence fondamentale pour tout data scientist ou ingénieur en machine learning.\n",
    "\n",
    "\n",
    "<img src=\"img/numpy_foundation.png\" alt=\"Numpy\" style=\"display:block; margin-left:auto; margin-right:auto;\">"
   ]
  },
  {
   "cell_type": "markdown",
   "id": "a80eedaa",
   "metadata": {},
   "source": [
    "**Pourquoi Numpy ?**\n",
    "\n",
    "Contrairement aux listes Python classiques, les tableaux NumPy sont :\n",
    "- Plus **rapides** et moins gourmands en mémoire\n",
    "- Facilement extensibles à plusieurs dimensions (**vecteurs**, **matrices**, **tenseurs**)\n",
    "- Compatibles avec des **opérations vectorisées** et du **broadcasting**\n",
    "- Intégrés dans toutes les bibliothèques majeures de la **data science**"
   ]
  },
  {
   "cell_type": "markdown",
   "id": "d5f38aef",
   "metadata": {},
   "source": [
    "**Chargement de la librairie Numpy**"
   ]
  },
  {
   "cell_type": "code",
   "execution_count": 3,
   "id": "2da50fed",
   "metadata": {},
   "outputs": [],
   "source": [
    "import numpy as np"
   ]
  },
  {
   "cell_type": "markdown",
   "id": "95928317",
   "metadata": {},
   "source": [
    "# 1. 🎲 Création de tableaux NumPy"
   ]
  },
  {
   "cell_type": "markdown",
   "id": "5972d002",
   "metadata": {},
   "source": [
    "## 1.1. Depuis des objets Python"
   ]
  },
  {
   "cell_type": "markdown",
   "id": "9040286d",
   "metadata": {},
   "source": [
    "NumPy permet de créer facilement des tableaux numériques notamment à parti de listes Python"
   ]
  },
  {
   "cell_type": "code",
   "execution_count": 4,
   "id": "c6a9b853",
   "metadata": {},
   "outputs": [
    {
     "data": {
      "text/plain": [
       "[5, 10, 15]"
      ]
     },
     "metadata": {},
     "output_type": "display_data"
    },
    {
     "data": {
      "text/plain": [
       "array([ 5, 10, 15])"
      ]
     },
     "metadata": {},
     "output_type": "display_data"
    }
   ],
   "source": [
    "my_list = [5, 10, 15]           # liste Python contenant trois entiers\n",
    "my_array = np.array(my_list)    # convertit cette liste en tableau numpy, ce qui permet ensuite d’appliquer des opérations vectorielles\n",
    "\n",
    "display(my_list)\n",
    "display(my_array)"
   ]
  },
  {
   "cell_type": "markdown",
   "id": "c2e3040d",
   "metadata": {},
   "source": [
    "## 1.2. Tableaux 1D et 2D : vecteurs et matrices"
   ]
  },
  {
   "cell_type": "markdown",
   "id": "2887c819",
   "metadata": {},
   "source": [
    "La structure de base de NumPy est le `tableau` (array). Il peut être :\n",
    "\n",
    "**1D** : vecteur\n",
    "\n",
    "**2D** : matrice\n",
    "\n",
    "ou **nD** (plusieurs dimensions)"
   ]
  },
  {
   "cell_type": "code",
   "execution_count": 5,
   "id": "85707c6b",
   "metadata": {},
   "outputs": [
    {
     "data": {
      "text/plain": [
       "numpy.ndarray"
      ]
     },
     "metadata": {},
     "output_type": "display_data"
    },
    {
     "data": {
      "text/plain": [
       "array([1, 2, 3])"
      ]
     },
     "metadata": {},
     "output_type": "display_data"
    },
    {
     "name": "stdout",
     "output_type": "stream",
     "text": [
      "---------------\n"
     ]
    },
    {
     "data": {
      "text/plain": [
       "numpy.ndarray"
      ]
     },
     "metadata": {},
     "output_type": "display_data"
    },
    {
     "data": {
      "text/plain": [
       "array([[1, 2],\n",
       "       [3, 4]])"
      ]
     },
     "metadata": {},
     "output_type": "display_data"
    }
   ],
   "source": [
    "# Vecteur 1D\n",
    "v = np.array([1, 2, 3])\n",
    "\n",
    "# Matrice 2D\n",
    "m = np.array([[1, 2], [3, 4]])\n",
    "\n",
    "display(type(v))\n",
    "display(v)\n",
    "print(\"---------------\")\n",
    "display(type(m))\n",
    "display(m)"
   ]
  },
  {
   "cell_type": "markdown",
   "id": "902d5899",
   "metadata": {},
   "source": [
    "🧠 **À retenir** : une matrice 2D peut contenir une seule ligne ou une seule colonne, mais reste bien en deux dimensions."
   ]
  },
  {
   "cell_type": "markdown",
   "id": "e0606185",
   "metadata": {},
   "source": [
    "### 🧩 Exercices"
   ]
  },
  {
   "cell_type": "markdown",
   "id": "5f7efc9c",
   "metadata": {},
   "source": [
    "> Créez et affichez un vecteur contenant les entiers de 10 à 20"
   ]
  },
  {
   "cell_type": "code",
   "execution_count": null,
   "id": "1d569284",
   "metadata": {},
   "outputs": [
    {
     "name": "stdout",
     "output_type": "stream",
     "text": [
      "[11 12 11 14 15 16 17 18 19 20]\n"
     ]
    }
   ],
   "source": [
    "# Votre code ici\n",
    "vector = np.array([11,12,11,14,15,16,17,18,19,20])\n",
    "\n",
    "print(vector)"
   ]
  },
  {
   "cell_type": "markdown",
   "id": "8597f33f",
   "metadata": {},
   "source": [
    "> Créez et affichez une matrice 3x3 avec les entiers de 1 à 9"
   ]
  },
  {
   "cell_type": "code",
   "execution_count": 9,
   "id": "998b2054",
   "metadata": {},
   "outputs": [
    {
     "name": "stdout",
     "output_type": "stream",
     "text": [
      "[[1 2 3]\n",
      " [4 5 6]\n",
      " [7 8 9]]\n"
     ]
    }
   ],
   "source": [
    "# Votre code ici\n",
    "v = np.array([[1,2,3],[4,5,6],[7,8,9]])\n",
    "\n",
    "print(v)"
   ]
  },
  {
   "cell_type": "markdown",
   "id": "94aed28b",
   "metadata": {},
   "source": [
    "## 1.3. Séquences numériques"
   ]
  },
  {
   "cell_type": "markdown",
   "id": "64df168a",
   "metadata": {},
   "source": [
    "Il est facile de générer facilement des suites de nombres avec Numpy."
   ]
  },
  {
   "cell_type": "code",
   "execution_count": 10,
   "id": "eed4cc44",
   "metadata": {},
   "outputs": [
    {
     "data": {
      "text/plain": [
       "array([0, 2, 4, 6, 8])"
      ]
     },
     "metadata": {},
     "output_type": "display_data"
    },
    {
     "data": {
      "text/plain": [
       "array([0.  , 0.25, 0.5 , 0.75, 1.  ])"
      ]
     },
     "metadata": {},
     "output_type": "display_data"
    }
   ],
   "source": [
    "sequence_1 = np.arange(0, 10, 2)    # crée une suite de nombres allant de 0 à 8 avec un pas de 2\n",
    "sequence_2 = np.linspace(0, 1, 5)   # génère 5 valeurs également espacées entre 0 et 1 inclus\n",
    "\n",
    "display(sequence_1)\n",
    "display(sequence_2)"
   ]
  },
  {
   "cell_type": "markdown",
   "id": "4ea40543",
   "metadata": {},
   "source": [
    "### 🧩 Exercices"
   ]
  },
  {
   "cell_type": "markdown",
   "id": "a81e2fb3",
   "metadata": {},
   "source": [
    "> Créez un tableau avec des valeurs entre 0 et 20 espacées de 5"
   ]
  },
  {
   "cell_type": "code",
   "execution_count": 13,
   "id": "1f40061c",
   "metadata": {},
   "outputs": [
    {
     "name": "stdout",
     "output_type": "stream",
     "text": [
      "[ 0  5 10 15]\n"
     ]
    }
   ],
   "source": [
    "# Votre code ici\n",
    "v =  np.arange(0,20,5)\n",
    "print(v)"
   ]
  },
  {
   "cell_type": "markdown",
   "id": "f75dbcd3",
   "metadata": {},
   "source": [
    "> Utilisez ``linspace`` pour créer un tableau de 50 valeurs entre -1 et 1"
   ]
  },
  {
   "cell_type": "code",
   "execution_count": 14,
   "id": "e8e5a127",
   "metadata": {},
   "outputs": [
    {
     "name": "stdout",
     "output_type": "stream",
     "text": [
      "[-1.         -0.95918367 -0.91836735 -0.87755102 -0.83673469 -0.79591837\n",
      " -0.75510204 -0.71428571 -0.67346939 -0.63265306 -0.59183673 -0.55102041\n",
      " -0.51020408 -0.46938776 -0.42857143 -0.3877551  -0.34693878 -0.30612245\n",
      " -0.26530612 -0.2244898  -0.18367347 -0.14285714 -0.10204082 -0.06122449\n",
      " -0.02040816  0.02040816  0.06122449  0.10204082  0.14285714  0.18367347\n",
      "  0.2244898   0.26530612  0.30612245  0.34693878  0.3877551   0.42857143\n",
      "  0.46938776  0.51020408  0.55102041  0.59183673  0.63265306  0.67346939\n",
      "  0.71428571  0.75510204  0.79591837  0.83673469  0.87755102  0.91836735\n",
      "  0.95918367  1.        ]\n"
     ]
    }
   ],
   "source": [
    "# Votre code ici\n",
    "v = np.linspace(-1,1,50)\n",
    "\n",
    "print(v)"
   ]
  },
  {
   "cell_type": "markdown",
   "id": "60b8cd53",
   "metadata": {},
   "source": [
    "## 1.4. Génération de données aléatoires"
   ]
  },
  {
   "cell_type": "markdown",
   "id": "5ffd4833",
   "metadata": {},
   "source": [
    "NumPy propose également un module random pour créer des tableaux remplis de valeurs aléatoires."
   ]
  },
  {
   "cell_type": "code",
   "execution_count": 15,
   "id": "a37f02e3",
   "metadata": {},
   "outputs": [
    {
     "data": {
      "text/plain": [
       "2"
      ]
     },
     "metadata": {},
     "output_type": "display_data"
    },
    {
     "data": {
      "text/plain": [
       "array([[6, 3, 6],\n",
       "       [7, 2, 0],\n",
       "       [5, 0, 3]])"
      ]
     },
     "metadata": {},
     "output_type": "display_data"
    },
    {
     "data": {
      "text/plain": [
       "array([0.33919278, 0.31054823, 0.69278192, 0.506306  ])"
      ]
     },
     "metadata": {},
     "output_type": "display_data"
    },
    {
     "data": {
      "text/plain": [
       "array([[0.81435599, 0.3962291 , 0.98839025, 0.31081187],\n",
       "       [0.98381066, 0.73483172, 0.82222161, 0.38799516],\n",
       "       [0.26682777, 0.94677244, 0.73346365, 0.21826597],\n",
       "       [0.30935144, 0.55186121, 0.52714819, 0.89380738]])"
      ]
     },
     "metadata": {},
     "output_type": "display_data"
    },
    {
     "data": {
      "text/plain": [
       "array([ 0.70399079, -0.34746609,  2.05050936, -0.72382969])"
      ]
     },
     "metadata": {},
     "output_type": "display_data"
    },
    {
     "data": {
      "text/plain": [
       "array([[-0.63106322,  1.56045629, -2.95640486, -0.27200784],\n",
       "       [-0.78897611, -3.19313143, -0.37924459,  2.84116687],\n",
       "       [ 0.24296372, -0.3635152 , -0.24305889, -0.58259804],\n",
       "       [-0.40441551, -0.8394707 ,  0.09256199, -0.18278836]])"
      ]
     },
     "metadata": {},
     "output_type": "display_data"
    }
   ],
   "source": [
    "# Entiers aléatoires (entre 0 et 10, exclu)\n",
    "object_1 = np.random.randint(0, 10)           # un seul entier aléatoire entre 0 et 9\n",
    "object_2 = np.random.randint(0, 10, (3, 3))   # matrice 3x3 d'entiers aléatoires entre 0 et 9\n",
    "\n",
    "# Flottants aléatoires uniformes entre 0 et 1\n",
    "object_3 = np.random.rand(4)                 # vecteur de 4 flottants tirés d'une distribution uniforme [0, 1)\n",
    "object_4 = np.random.rand(4, 4)              # matrice 4x4 de flottants tirés d'une distribution uniforme [0, 1)\n",
    "\n",
    "# Flottants aléatoires selon une loi normale (moyenne = 0, écart-type = 1)\n",
    "object_5 = np.random.randn(4)                # vecteur de 4 flottants selon une loi normale centrée réduite\n",
    "object_6 = np.random.randn(4, 4)             # matrice 4x4 de flottants selon une loi normale centrée réduite              \n",
    "\n",
    "display(object_1)\n",
    "display(object_2)\n",
    "display(object_3)\n",
    "display(object_4)\n",
    "display(object_5)\n",
    "display(object_6)"
   ]
  },
  {
   "cell_type": "markdown",
   "id": "b879b1bc",
   "metadata": {},
   "source": [
    "### 🧩 Exercices"
   ]
  },
  {
   "cell_type": "markdown",
   "id": "40e22cee",
   "metadata": {},
   "source": [
    "> Générez un entier aléatoire entre 1 et 100"
   ]
  },
  {
   "cell_type": "code",
   "execution_count": null,
   "id": "25731cb9",
   "metadata": {},
   "outputs": [
    {
     "name": "stdout",
     "output_type": "stream",
     "text": [
      "62\n"
     ]
    }
   ],
   "source": [
    "nb = np.random.randint(1,101)\n",
    "\n",
    "print(nb)"
   ]
  },
  {
   "cell_type": "markdown",
   "id": "df8d60bb",
   "metadata": {},
   "source": [
    "> Créez un tableau 1D de 10 entiers aléatoires entre 0 et 20"
   ]
  },
  {
   "cell_type": "code",
   "execution_count": null,
   "id": "4b00b52d",
   "metadata": {},
   "outputs": [
    {
     "name": "stdout",
     "output_type": "stream",
     "text": [
      "[19 18 18 19 13 13 10 12 12 12]\n"
     ]
    }
   ],
   "source": [
    "v = np.random.randint(0,21, (1,10))[0]\n",
    "\n",
    "print(v)"
   ]
  },
  {
   "cell_type": "markdown",
   "id": "add9b4f6",
   "metadata": {},
   "source": [
    "> Générez une matrice 5x5 d’entiers entre 0 et 9"
   ]
  },
  {
   "cell_type": "code",
   "execution_count": 34,
   "id": "ab4478b7",
   "metadata": {},
   "outputs": [
    {
     "name": "stdout",
     "output_type": "stream",
     "text": [
      "[[0 7 2 9 0]\n",
      " [6 7 7 9 5]\n",
      " [3 9 9 8 2]\n",
      " [8 3 7 8 1]\n",
      " [6 1 4 6 4]]\n"
     ]
    }
   ],
   "source": [
    "v = np.random.randint(0, 10, (5, 5))\n",
    "print(v)"
   ]
  },
  {
   "cell_type": "markdown",
   "id": "be581286",
   "metadata": {},
   "source": [
    "> Générez un vecteur de 6 flottants aléatoires entre 0 et 1"
   ]
  },
  {
   "cell_type": "code",
   "execution_count": 35,
   "id": "0e9141f0",
   "metadata": {},
   "outputs": [
    {
     "name": "stdout",
     "output_type": "stream",
     "text": [
      "[0.39971693 0.8017883  0.09345053 0.19943489 0.33500984 0.42934854]\n"
     ]
    }
   ],
   "source": [
    "v = np.random.rand(6)\n",
    "print(v)"
   ]
  },
  {
   "cell_type": "markdown",
   "id": "7e20364d",
   "metadata": {},
   "source": [
    "> Créez une matrice 3x3 de flottants aléatoires entre 0 et 1"
   ]
  },
  {
   "cell_type": "code",
   "execution_count": 36,
   "id": "d0801da6",
   "metadata": {},
   "outputs": [
    {
     "name": "stdout",
     "output_type": "stream",
     "text": [
      "[[0.70985095 0.78280055 0.62254677]\n",
      " [0.12688116 0.9336587  0.8058325 ]\n",
      " [0.37017244 0.92980269 0.64849101]]\n"
     ]
    }
   ],
   "source": [
    "v = np.random.rand(3,3)\n",
    "print(v)"
   ]
  },
  {
   "cell_type": "markdown",
   "id": "b0e60f21",
   "metadata": {},
   "source": [
    "> Générez un vecteur de 8 valeurs suivant une loi normale (moyenne 0, écart-type 1)"
   ]
  },
  {
   "cell_type": "code",
   "execution_count": 37,
   "id": "0937da99",
   "metadata": {},
   "outputs": [
    {
     "name": "stdout",
     "output_type": "stream",
     "text": [
      "[ 1.98957107  1.46048682 -1.44763989 -0.69179765  1.62203893 -0.2420342\n",
      " -2.09403888 -0.61569062]\n"
     ]
    }
   ],
   "source": [
    "v = np.random.randn(8)\n",
    "print(v)"
   ]
  },
  {
   "cell_type": "markdown",
   "id": "21230dcb",
   "metadata": {},
   "source": [
    "> Créez une matrice 4x4 de valeurs aléatoires selon une loi normale"
   ]
  },
  {
   "cell_type": "code",
   "execution_count": 38,
   "id": "227d3aee",
   "metadata": {},
   "outputs": [
    {
     "name": "stdout",
     "output_type": "stream",
     "text": [
      "[[-1.93686428  0.3632933   0.0192031  -1.11262538]\n",
      " [ 0.58838047 -1.07132004 -1.27387666  0.25383229]\n",
      " [ 0.32619781  2.33510192 -0.60710311  0.20828953]\n",
      " [-0.18353215  0.48140799  0.83665248  1.19911027]]\n"
     ]
    }
   ],
   "source": [
    "v = np.random.randn(4, 4)\n",
    "print(v)"
   ]
  },
  {
   "cell_type": "markdown",
   "id": "5bf6fe4e",
   "metadata": {},
   "source": [
    "## 1.5. Tableaux pré-remplis"
   ]
  },
  {
   "cell_type": "markdown",
   "id": "2186896b",
   "metadata": {},
   "source": [
    "Numpy propose des fonctions pratiques pour créer rapidement des tableaux contenant des valeurs par défaut."
   ]
  },
  {
   "cell_type": "code",
   "execution_count": 39,
   "id": "a4b0e6c8",
   "metadata": {},
   "outputs": [
    {
     "data": {
      "text/plain": [
       "array([0., 0., 0., 0.])"
      ]
     },
     "metadata": {},
     "output_type": "display_data"
    },
    {
     "data": {
      "text/plain": [
       "array([[0., 0., 0., 0.],\n",
       "       [0., 0., 0., 0.],\n",
       "       [0., 0., 0., 0.],\n",
       "       [0., 0., 0., 0.]])"
      ]
     },
     "metadata": {},
     "output_type": "display_data"
    },
    {
     "data": {
      "text/plain": [
       "array([1., 1., 1., 1.])"
      ]
     },
     "metadata": {},
     "output_type": "display_data"
    },
    {
     "data": {
      "text/plain": [
       "array([[1., 1., 1., 1.],\n",
       "       [1., 1., 1., 1.],\n",
       "       [1., 1., 1., 1.],\n",
       "       [1., 1., 1., 1.]])"
      ]
     },
     "metadata": {},
     "output_type": "display_data"
    },
    {
     "data": {
      "text/plain": [
       "array([[1., 0., 0., 0.],\n",
       "       [0., 1., 0., 0.],\n",
       "       [0., 0., 1., 0.],\n",
       "       [0., 0., 0., 1.]])"
      ]
     },
     "metadata": {},
     "output_type": "display_data"
    }
   ],
   "source": [
    "# Zéros\n",
    "zeros = np.zeros(4)               # vecteur de 4 éléments contenant uniquement des zéros\n",
    "zeros_matrix = np.zeros((4, 4))   # matrice 4x4 remplie de zéros\n",
    "\n",
    "# Uns\n",
    "ones = np.ones(4)                 # vecteur de 4 éléments contenant uniquement des uns\n",
    "ones_matrix = np.ones((4, 4))     # matrice 4x4 remplie de uns\n",
    "\n",
    "# Matrice identité 4x4 (matrice carrée avec des 1 sur la diagonale principale et des 0 ailleur.\n",
    "# Elle joue un rôle similaire au nombre 1 pour la multiplication)\n",
    "matrix_identity = np.eye(4)     \n",
    "\n",
    "\n",
    "display(zeros)\n",
    "display(zeros_matrix)\n",
    "\n",
    "display(ones)\n",
    "display(ones_matrix)\n",
    "\n",
    "display(matrix_identity)"
   ]
  },
  {
   "cell_type": "markdown",
   "id": "2612416b",
   "metadata": {},
   "source": [
    "### 🧩 Exercices"
   ]
  },
  {
   "cell_type": "markdown",
   "id": "8176c843",
   "metadata": {},
   "source": [
    "> Créez un vecteur de 6 zéros"
   ]
  },
  {
   "cell_type": "code",
   "execution_count": 40,
   "id": "b447ccc1",
   "metadata": {},
   "outputs": [
    {
     "name": "stdout",
     "output_type": "stream",
     "text": [
      "[0. 0. 0. 0. 0. 0.]\n"
     ]
    }
   ],
   "source": [
    "v = np.zeros(6)\n",
    "print(v)"
   ]
  },
  {
   "cell_type": "markdown",
   "id": "54dcedcb",
   "metadata": {},
   "source": [
    "> Créez une matrice 3x5 remplie de zéros"
   ]
  },
  {
   "cell_type": "code",
   "execution_count": 42,
   "id": "0816b2eb",
   "metadata": {},
   "outputs": [
    {
     "name": "stdout",
     "output_type": "stream",
     "text": [
      "[[0. 0. 0. 0. 0.]\n",
      " [0. 0. 0. 0. 0.]\n",
      " [0. 0. 0. 0. 0.]]\n"
     ]
    }
   ],
   "source": [
    "v = np.zeros((3,5))\n",
    "print(v)"
   ]
  },
  {
   "cell_type": "markdown",
   "id": "025052d1",
   "metadata": {},
   "source": [
    "> Créez un vecteur de 10 uns"
   ]
  },
  {
   "cell_type": "code",
   "execution_count": 43,
   "id": "35a613da",
   "metadata": {},
   "outputs": [
    {
     "name": "stdout",
     "output_type": "stream",
     "text": [
      "[1. 1. 1. 1. 1. 1. 1. 1. 1. 1.]\n"
     ]
    }
   ],
   "source": [
    "v = np.ones(10)\n",
    "print(v)"
   ]
  },
  {
   "cell_type": "markdown",
   "id": "1a035040",
   "metadata": {},
   "source": [
    "> Créez une matrice 2x3 remplie de uns"
   ]
  },
  {
   "cell_type": "code",
   "execution_count": 44,
   "id": "ff9ee922",
   "metadata": {},
   "outputs": [
    {
     "name": "stdout",
     "output_type": "stream",
     "text": [
      "[[1. 1. 1.]\n",
      " [1. 1. 1.]]\n"
     ]
    }
   ],
   "source": [
    "v = np.ones((2,3))\n",
    "print(v)"
   ]
  },
  {
   "cell_type": "markdown",
   "id": "2980a0bf",
   "metadata": {},
   "source": [
    "> Créez une matrice identité 8x8"
   ]
  },
  {
   "cell_type": "code",
   "execution_count": 45,
   "id": "7f83d5f0",
   "metadata": {},
   "outputs": [
    {
     "name": "stdout",
     "output_type": "stream",
     "text": [
      "[[1. 0. 0. 0. 0. 0. 0. 0.]\n",
      " [0. 1. 0. 0. 0. 0. 0. 0.]\n",
      " [0. 0. 1. 0. 0. 0. 0. 0.]\n",
      " [0. 0. 0. 1. 0. 0. 0. 0.]\n",
      " [0. 0. 0. 0. 1. 0. 0. 0.]\n",
      " [0. 0. 0. 0. 0. 1. 0. 0.]\n",
      " [0. 0. 0. 0. 0. 0. 1. 0.]\n",
      " [0. 0. 0. 0. 0. 0. 0. 1.]]\n"
     ]
    }
   ],
   "source": [
    "v = np.eye(8)\n",
    "print(v)"
   ]
  },
  {
   "cell_type": "markdown",
   "id": "a49857bf",
   "metadata": {},
   "source": [
    "# 2. 📐 Dimensions et forme des tableaux"
   ]
  },
  {
   "cell_type": "markdown",
   "id": "d82ee6a3",
   "metadata": {},
   "source": [
    "Numpy offre des attributs très utiles pour explorer la structure des tableaux"
   ]
  },
  {
   "cell_type": "code",
   "execution_count": 46,
   "id": "b29a8d9f",
   "metadata": {},
   "outputs": [
    {
     "name": "stdout",
     "output_type": "stream",
     "text": [
      "Tableau :\n",
      " [[ 0  1  2  3]\n",
      " [ 4  5  6  7]\n",
      " [ 8  9 10 11]] \n",
      "\n",
      "Forme (shape) : (3, 4) \n",
      "\n",
      "Nombre de dimensions : 2 \n",
      "\n",
      "Nombre total d'éléments : 12 \n",
      "\n",
      "Type de données (dtype) : int64 \n",
      "\n"
     ]
    }
   ],
   "source": [
    "# Tableau de 0 à 11 transformé en matrice 3x4 grâce à la méthode .reshape()\n",
    "# ⚠️ Attention : le produit des dimensions passées à reshape (ici 3×4 = 12) \n",
    "# doit exactement correspondre au nombre total d’éléments dans le tableau initial. Sinon, NumPy renverra une erreur !\n",
    "array = np.arange(12).reshape(3, 4)        \n",
    "\n",
    "print(\"Tableau :\\n\", array, \"\\n\")                     # affiche le tableau\n",
    "print(\"Forme (shape) :\", array.shape, \"\\n\")           # affiche la forme du tableau\n",
    "print(\"Nombre de dimensions :\", array.ndim, \"\\n\")     # affiche le nombre de dimensions\n",
    "print(\"Nombre total d'éléments :\", array.size, \"\\n\")  # affiche le nombre d'éléments\n",
    "print(\"Type de données (dtype) :\", array.dtype, \"\\n\") # affiche le type des données"
   ]
  },
  {
   "cell_type": "markdown",
   "id": "3711255b",
   "metadata": {},
   "source": [
    "### 🧩 Exercice"
   ]
  },
  {
   "cell_type": "markdown",
   "id": "b35b0eea",
   "metadata": {},
   "source": [
    "> Créez une matrice de forme 6x2 à partir de np.arange().  \n",
    "> Affichez sa forme, son nombre d’éléments, son nombre de dimensions."
   ]
  },
  {
   "cell_type": "code",
   "execution_count": 48,
   "id": "249fd6c6",
   "metadata": {},
   "outputs": [
    {
     "name": "stdout",
     "output_type": "stream",
     "text": [
      "shape (6, 2)\n",
      "elements 12\n",
      "dimensions 2\n"
     ]
    }
   ],
   "source": [
    "array = np.arange(12).reshape(6,2)\n",
    "print(\"shape\", array.shape)\n",
    "print(\"elements\", array.size)\n",
    "print(\"dimensions\", array.ndim)"
   ]
  },
  {
   "cell_type": "markdown",
   "id": "2d2ea8d6",
   "metadata": {},
   "source": [
    "> Créez un tableau contenant les nombres de 0 à 19, puis transformez-le en matrice de 4 lignes et 5 colonnes."
   ]
  },
  {
   "cell_type": "code",
   "execution_count": 50,
   "id": "577fab78",
   "metadata": {},
   "outputs": [
    {
     "name": "stdout",
     "output_type": "stream",
     "text": [
      "[ 0  1  2  3  4  5  6  7  8  9 10 11 12 13 14 15 16 17 18 19]\n",
      "[[ 0  1  2  3  4]\n",
      " [ 5  6  7  8  9]\n",
      " [10 11 12 13 14]\n",
      " [15 16 17 18 19]]\n"
     ]
    }
   ],
   "source": [
    "array = np.arange(20)\n",
    "reshaped_array = array.reshape(4, 5)\n",
    "print(array)\n",
    "print(reshaped_array)"
   ]
  },
  {
   "cell_type": "markdown",
   "id": "fb55b390",
   "metadata": {},
   "source": [
    "> Vous disposez d’un tableau de 18 éléments. Quelles sont les trois formes possibles que vous pouvez lui donner avec reshape() en matrice 2D ?"
   ]
  },
  {
   "cell_type": "code",
   "execution_count": 51,
   "id": "42b2c3c8",
   "metadata": {},
   "outputs": [
    {
     "name": "stdout",
     "output_type": "stream",
     "text": [
      "[ 0  1  2  3  4  5  6  7  8  9 10 11 12 13 14 15 16 17]\n",
      "[[ 0  1  2  3  4  5  6  7  8]\n",
      " [ 9 10 11 12 13 14 15 16 17]]\n",
      "[[ 0  1]\n",
      " [ 2  3]\n",
      " [ 4  5]\n",
      " [ 6  7]\n",
      " [ 8  9]\n",
      " [10 11]\n",
      " [12 13]\n",
      " [14 15]\n",
      " [16 17]]\n",
      "[[ 0  1  2]\n",
      " [ 3  4  5]\n",
      " [ 6  7  8]\n",
      " [ 9 10 11]\n",
      " [12 13 14]\n",
      " [15 16 17]]\n"
     ]
    }
   ],
   "source": [
    "array = np.arange(18)\n",
    "reshaped1 = array.reshape(2, 9)\n",
    "reshaped2 = array.reshape(9, 2)\n",
    "reshaped3 = array.reshape(6, 3)\n",
    "\n",
    "print(array)\n",
    "print(reshaped1)\n",
    "print(reshaped2)\n",
    "print(reshaped3)\n"
   ]
  },
  {
   "cell_type": "markdown",
   "id": "59e6568d",
   "metadata": {},
   "source": [
    "# 3. 🔍 Indexing & Slicing"
   ]
  },
  {
   "cell_type": "markdown",
   "id": "3042c152",
   "metadata": {},
   "source": [
    "Lorsque vous travaillez avec des tableaux ou matrices NumPy, il est essentiel de savoir accéder aux éléments, **extraire des lignes**, **des colonnes** ou **des sous-parties**. Cette opération s’appelle l’**indexing** (accès à un ou plusieurs éléments) et le **slicing** (extraction de tranches).\n",
    "\n",
    "NumPy utilise une syntaxe très proche de celle des listes Python, mais adaptée aux tableaux multidimensionnels. Grâce à cela, vous pouvez :\n",
    "- Accéder à une valeur précise dans un tableau 2D\n",
    "- Extraire une ligne ou une colonne\n",
    "- Récupérer plusieurs lignes ou colonnes avec des tranches (slices)\n",
    "- Utiliser des conditions (masques logiques) pour filtrer certains éléments\n",
    "\n",
    "Dans les exemples suivants, nous allons manipuler une matrice 3x4 pour explorer ces différentes possibilités."
   ]
  },
  {
   "cell_type": "code",
   "execution_count": 52,
   "id": "94e8569a",
   "metadata": {},
   "outputs": [
    {
     "name": "stdout",
     "output_type": "stream",
     "text": [
      "Matrice :\n",
      " [[ 0  1  2  3]\n",
      " [ 4  5  6  7]\n",
      " [ 8  9 10 11]]\n"
     ]
    }
   ],
   "source": [
    "# Matrice de travail\n",
    "matrix = np.arange(12).reshape(3, 4)\n",
    "\n",
    "print(\"Matrice :\\n\", matrix)"
   ]
  },
  {
   "cell_type": "markdown",
   "id": "840588e9",
   "metadata": {},
   "source": [
    "## 3.1. Indexing"
   ]
  },
  {
   "cell_type": "markdown",
   "id": "d89ce625",
   "metadata": {},
   "source": [
    "**Indexing** = accès à un seul élément ou un groupe précis via des **indices explicites**."
   ]
  },
  {
   "cell_type": "code",
   "execution_count": null,
   "id": "feaafc1f",
   "metadata": {},
   "outputs": [],
   "source": [
    "print(\"Première ligne :\", matrix[0])                # extrait toute la première ligne\n",
    "print(\"Dernière ligne :\", matrix[-1])               # extrait toute la dernière ligne\n",
    "print(\"Première colonne :\", matrix[:, 0])           # extrait tous les éléments de la 1ère colonne, sur toutes les lignes\n",
    "print(\"Dernière colonne :\", matrix[:, -1])          # extrait tous les éléments de la dernière colonne, sur toutes les lignes\n",
    "print(\"Élément ligne 0, colonne 2 :\", matrix[0, 2]) # extrait'élément situé à la 1ère ligne (index 0) et à la 3e colonne (index 2)"
   ]
  },
  {
   "cell_type": "markdown",
   "id": "85562d82",
   "metadata": {},
   "source": [
    "## 3.2. Slicing"
   ]
  },
  {
   "cell_type": "markdown",
   "id": "e643bb4d",
   "metadata": {},
   "source": [
    "**Slicing** = accès à une plage continue d’éléments avec l’opérateur : `(start:stop:step)`."
   ]
  },
  {
   "cell_type": "code",
   "execution_count": null,
   "id": "2b1ee575",
   "metadata": {},
   "outputs": [],
   "source": [
    "print(\"Lignes 0 et 1 :\\n\", matrix[0:2], \"\\n\")               # extrait les deux premières lignes (lignes 0 et 1 incluses, ligne 2 exclue)\n",
    "print(\"Colonnes 1 et 2 :\\n\", matrix[:, 1:3], \"\\n\")          # extrait toutes les lignes mais seulement les colonnes 1 et 2 (3 exclue)\n",
    "print(\"Colonnes 0, 2, ... :\\n\", matrix[:, ::2], \"\\n\")       # extrait toutes les lignes mais une colonne sur deux (colonne 0, 2...)\n",
    "print(\"Éléments > 5 :\\n\", matrix[matrix > 5], \"\\n\")         # extrait tous les éléments dont la valeur est strictement supérieure à 5\n",
    "print(\"Éléments pairs :\\n\", matrix[matrix % 2 == 0], \"\\n\")  # extrait tous les éléments qui sont des nombres pairs (reste = 0 quand divisé par 2)"
   ]
  },
  {
   "cell_type": "markdown",
   "id": "324ec601",
   "metadata": {},
   "source": [
    "### 🧩 Exercice"
   ]
  },
  {
   "cell_type": "markdown",
   "id": "34a1ecb9",
   "metadata": {},
   "source": [
    "> À partir d’un tableau `array = np.arange(35).reshape(5, 7)`, répondez aux questions suivantes :  \n",
    "> 1. Affichez l’élément situé à la 3e ligne et 5e colonne.  \n",
    "> 2. Affichez toute la 2e ligne du tableau. \n",
    "> 3. Affichez toute la dernière colonne. \n",
    "> 4. Affichez les trois premières lignes du tableau. \n",
    "> 5. Affichez les colonnes 2 à 5 de toutes les lignes. \n",
    "> 6. Affichez les 3 derniers éléments de la 4e ligne.\n",
    "> 7. Affichez une ligne sur deux (lignes 0, 2, 4).  \n",
    "> 8. Affichez une colonne sur trois (colonnes 0, 3, 6).\n",
    "> 9. Affichez tous les éléments strictement supérieurs à 25.\n",
    "> 10. Affichez tous les éléments impairs du tableau.\n",
    "> 11. Affichez tous les éléments compris entre 10 et 20 inclus.\n",
    "> 12. Remplacez l’élément en ligne 1, colonne 4 par 999.\n",
    "> 13. Remplacez tous les éléments multiples de 7 par -7.\n",
    "> 14. Remplacez la 3e colonne par des zéros."
   ]
  },
  {
   "cell_type": "code",
   "execution_count": 87,
   "id": "637ae21e",
   "metadata": {},
   "outputs": [
    {
     "name": "stdout",
     "output_type": "stream",
     "text": [
      "[[ 0  1  2  3  4  5  6]\n",
      " [ 7  8  9 10 11 12 13]\n",
      " [14 15 16 17 18 19 20]\n",
      " [21 22 23 24 25 26 27]\n",
      " [28 29 30 31 32 33 34]]\n",
      "1:  18\n",
      "2:  [ 7  8  9 10 11 12 13]\n",
      "3:  [28 29 30 31 32 33 34]\n",
      "4:  [[ 0  1  2  3  4  5  6]\n",
      " [ 7  8  9 10 11 12 13]\n",
      " [14 15 16 17 18 19 20]]\n",
      "5:  [[ 2  3  4  5]\n",
      " [ 9 10 11 12]\n",
      " [16 17 18 19]\n",
      " [23 24 25 26]\n",
      " [30 31 32 33]]\n",
      "6:  [25 26 27]\n",
      "7:  [[ 0  1  2  3  4  5  6]\n",
      " [14 15 16 17 18 19 20]\n",
      " [28 29 30 31 32 33 34]]\n",
      "8: [[ 0  3  6]\n",
      " [ 7 10 13]\n",
      " [14 17 20]\n",
      " [21 24 27]\n",
      " [28 31 34]]\n",
      "9: [26 27 28 29 30 31 32 33 34]\n",
      "10: [ 1  3  5  7  9 11 13 15 17 19 21 23 25 27 29 31 33]\n",
      "11: [10 11 12 13 14 15 16 17 18 19 20]\n",
      "12: [[  0   1   2 999   4   5   6]\n",
      " [  7   8   9  10  11  12  13]\n",
      " [ 14  15  16  17  18  19  20]\n",
      " [ 21  22  23  24  25  26  27]\n",
      " [ 28  29  30  31  32  33  34]]\n",
      "13: [[ -7   1   2 999   4   5   6]\n",
      " [ -7   8   9  10  11  12  13]\n",
      " [ -7  15  16  17  18  19  20]\n",
      " [ -7  22  23  24  25  26  27]\n",
      " [ -7  29  30  31  32  33  34]]\n",
      "14 [[ -7   1   0 999   4   5   6]\n",
      " [ -7   8   0  10  11  12  13]\n",
      " [ -7  15   0  17  18  19  20]\n",
      " [ -7  22   0  24  25  26  27]\n",
      " [ -7  29   0  31  32  33  34]]\n"
     ]
    }
   ],
   "source": [
    "array = np.arange(35).reshape(5, 7)\n",
    "print(array)\n",
    "print(\"1: \",array[2, 4])\n",
    "print(\"2: \",array[1])\n",
    "print(\"3: \",array[-1])\n",
    "print(\"4: \",array[0:3])\n",
    "print(\"5: \",array[:, 2:6])\n",
    "print(\"6: \",array[3, 4:7])\n",
    "print(\"7: \",array[::2])\n",
    "print(\"8:\",array[:, ::3])\n",
    "print(\"9:\",array[array > 25])\n",
    "print(\"10:\",array[array % 2 == 1])\n",
    "interval = array[array >= 10]\n",
    "interval = interval[interval <= 20]\n",
    "print(\"11:\",interval )\n",
    "array[0,3] = 999\n",
    "print(\"12:\",array)\n",
    "\n",
    "array[np.where(array % 7 == 0)] = -7\n",
    "\n",
    "print(\"13:\",array)\n",
    "\n",
    "array[:, 2] = 0\n",
    "print(\"14\", array)"
   ]
  },
  {
   "cell_type": "markdown",
   "id": "a7180d18",
   "metadata": {},
   "source": [
    "# 4. ➕ Opérations vectorielles"
   ]
  },
  {
   "cell_type": "markdown",
   "id": "93ca7e27",
   "metadata": {},
   "source": [
    "Lorsqu’on travaille avec des tableaux NumPy (vecteurs ou matrices), on peut effectuer des opérations mathématiques directement sur l’ensemble des éléments, sans utiliser de boucles. On parle d’**opérations vectorielles** ou **opérations élément par élément**.\n",
    "\n",
    "Cela permet :\n",
    "- d’écrire du code plus simple et plus lisible,\n",
    "- d’obtenir des calculs bien plus rapides grâce à l’optimisation interne de NumPy,\n",
    "- de manipuler facilement des données numériques comme dans les domaines de la data science ou du machine learning.\n",
    "\n",
    "**🤖 Pourquoi les opérations vectorielles sont essentielles en machine learning ?**\n",
    "\n",
    "Dans le machine learning, on travaille en permanence avec :\n",
    "- des vecteurs : chaque ligne de données (ex : un utilisateur avec ses caractéristiques) est un vecteur,\n",
    "- des matrices : un ensemble de données (ex : tous les utilisateurs) forme une matrice,\n",
    "- et des opérations mathématiques rapides pour entraîner et utiliser les modèles.\n"
   ]
  },
  {
   "cell_type": "code",
   "execution_count": 88,
   "id": "da7eadcf",
   "metadata": {},
   "outputs": [
    {
     "name": "stdout",
     "output_type": "stream",
     "text": [
      "Addition : [11 22 33]\n",
      "Soustraction : [ -9 -18 -27]\n",
      "Multiplication : [10 40 90]\n",
      "Division : [10. 10. 10.]\n",
      "Carrés de x : [1 4 9]\n",
      "Produit scalaire (x @ y) : 140\n",
      "Produit scalaire (np.dot) : 140\n",
      "Norme de x : 3.7416573867739413\n"
     ]
    }
   ],
   "source": [
    "x = np.array([1, 2, 3])\n",
    "y = np.array([10, 20, 30])\n",
    "\n",
    "# Addition élément par élément\n",
    "print(\"Addition :\", x + y)  # [11 22 33]\n",
    "\n",
    "# Soustraction élément par élément\n",
    "print(\"Soustraction :\", x - y)  # [-9 -18 -27]\n",
    "\n",
    "# Multiplication élément par élément (produit Hadamard)\n",
    "print(\"Multiplication :\", x * y)  # [10 40 90]\n",
    "\n",
    "# Division élément par élément\n",
    "print(\"Division :\", y / x)  # [10. 10. 10.]\n",
    "\n",
    "# Exponentiation\n",
    "print(\"Carrés de x :\", x ** 2)  # [1 4 9]\n",
    "\n",
    "# Produit scalaire (dot product)\n",
    "print(\"Produit scalaire (x @ y) :\", x @ y)  # 140\n",
    "print(\"Produit scalaire (np.dot) :\", np.dot(x, y))  # 140\n",
    "\n",
    "# Norme (longueur du vecteur)\n",
    "print(\"Norme de x :\", np.linalg.norm(x))  # sqrt(1^2 + 2^2 + 3^2) = 3.7416..."
   ]
  },
  {
   "cell_type": "markdown",
   "id": "3dff2782",
   "metadata": {},
   "source": [
    "### 🧩 Exercices"
   ]
  },
  {
   "cell_type": "markdown",
   "id": "b3c90ca1",
   "metadata": {},
   "source": [
    "> Soit `x = np.array([2, 4, 6])` et `y = np.array([1, 3, 5])`  \n",
    "> 1. Calculez x + y  \n",
    "> 2. Calculez x - y  \n",
    "> 3. Calculez x * y (multiplication élément par élément)  \n",
    "> 4. Calculez x / y (division élément par élément)"
   ]
  },
  {
   "cell_type": "code",
   "execution_count": 89,
   "id": "452c7441",
   "metadata": {},
   "outputs": [
    {
     "name": "stdout",
     "output_type": "stream",
     "text": [
      "[ 3  7 11]\n",
      "[1 1 1]\n",
      "[ 2 12 30]\n",
      "[2.         1.33333333 1.2       ]\n"
     ]
    }
   ],
   "source": [
    "x = np.array([2,4,6])\n",
    "y = np.array([1,3,5])\n",
    "\n",
    "print(x + y)\n",
    "print(x - y)\n",
    "print(x * y)\n",
    "print(x / y)"
   ]
  },
  {
   "cell_type": "markdown",
   "id": "e4ff727c",
   "metadata": {},
   "source": [
    "> Reprenez les vecteurs x et y ci-dessus  \n",
    "> 1. Calculez le carré de chaque élément de x  \n",
    "> 2. Calculez le double de chaque élément de y  \n",
    "> 3. Ajoutez 10 à tous les éléments de x"
   ]
  },
  {
   "cell_type": "code",
   "execution_count": 90,
   "id": "d02bf2d5",
   "metadata": {},
   "outputs": [
    {
     "name": "stdout",
     "output_type": "stream",
     "text": [
      "[ 4 16 36]\n",
      "[ 2  6 10]\n",
      "[12 14 16]\n"
     ]
    }
   ],
   "source": [
    "print (x ** 2)\n",
    "print(y * 2)\n",
    "print(x + 10)"
   ]
  },
  {
   "cell_type": "markdown",
   "id": "bef2e967",
   "metadata": {},
   "source": [
    "> Soit `x = np.array([1, 2, 3])` et `y = np.array([4, 5, 6])`  \n",
    "> 1. Calculez le **produit scalaire** de x et y avec `@`  \n",
    "> 2. Calculez le produit scalaire avec `np.dot()`  \n",
    "> 3. Vérifiez que les deux résultats sont identiques"
   ]
  },
  {
   "cell_type": "code",
   "execution_count": 91,
   "id": "e6defdb3",
   "metadata": {},
   "outputs": [
    {
     "name": "stdout",
     "output_type": "stream",
     "text": [
      "32\n",
      "32\n"
     ]
    }
   ],
   "source": [
    "x = np.array([1,2,3])\n",
    "y = np.array([4,5,6])\n",
    "\n",
    "print(x @ y)\n",
    "print(np.dot(x, y))"
   ]
  },
  {
   "cell_type": "markdown",
   "id": "eac23148",
   "metadata": {},
   "source": [
    "> Soit `v = np.array([3, 4])`  \n",
    "> 1. Calculez la **norme** de v (indice : `np.linalg.norm`)  \n",
    "> 2. Normalisez v (divisez chaque élément par la norme)  \n",
    "> 3. Vérifiez que la norme du vecteur normalisé vaut 1"
   ]
  },
  {
   "cell_type": "code",
   "execution_count": 95,
   "id": "3adbac5a",
   "metadata": {},
   "outputs": [
    {
     "name": "stdout",
     "output_type": "stream",
     "text": [
      "5.0\n",
      "[0.6 0.8]\n",
      "1.0\n"
     ]
    }
   ],
   "source": [
    "v = np.array([3,4])\n",
    "norm = np.linalg.norm(v)\n",
    "normalized_v = v / norm\n",
    "print(norm)\n",
    "print(v / norm)\n",
    "print(np.linalg.norm(normalized_v))"
   ]
  },
  {
   "cell_type": "markdown",
   "id": "a4342f60",
   "metadata": {},
   "source": [
    "> Créez deux vecteurs a et b de taille 5, remplis avec des entiers de votre choix  \n",
    "> 1. Faites la somme, la différence et le produit terme à terme  \n",
    "> 2. Calculez la somme totale des éléments de a et de b  \n",
    "> 3. Calculez la moyenne des éléments de a"
   ]
  },
  {
   "cell_type": "code",
   "execution_count": 110,
   "id": "f72214cc",
   "metadata": {},
   "outputs": [
    {
     "name": "stdout",
     "output_type": "stream",
     "text": [
      "a:  [22 15 96 85 54]\n",
      "b:  [12  7 36 48 96]\n",
      "471\n",
      "54.4\n"
     ]
    }
   ],
   "source": [
    "a = np.random.randint(100, size=(5))\n",
    "b = np.random.randint(100, size=(5))\n",
    "print(\"a: \", a)\n",
    "print(\"b: \", b)\n",
    "\n",
    "sum = np.sum(a + b)\n",
    "print(sum)\n",
    "\n",
    "mean = np.mean(a)\n",
    "print(mean)"
   ]
  },
  {
   "cell_type": "markdown",
   "id": "1e668ad9",
   "metadata": {},
   "source": [
    "# 5. 📊 Fonctions statistiques utiles"
   ]
  },
  {
   "cell_type": "markdown",
   "id": "50720364",
   "metadata": {},
   "source": [
    "NumPy propose de nombreuses fonctions pour analyser rapidement des données numériques : **maximum**, **minimum**, **moyenne**, **écart-type**, **somme**, etc. Ces fonctions permettent d’obtenir des indicateurs statistiques simples sur un tableau, qu’il soit 1D (vecteur) ou 2D (matrice)."
   ]
  },
  {
   "cell_type": "markdown",
   "id": "8c24ddaf",
   "metadata": {},
   "source": [
    "## 5.1. Vecteur 1D"
   ]
  },
  {
   "cell_type": "code",
   "execution_count": 111,
   "id": "455778db",
   "metadata": {},
   "outputs": [
    {
     "name": "stdout",
     "output_type": "stream",
     "text": [
      "Tableau : [71 10 21 13 48 73 80 59 89 76]\n",
      "Max : 89\n",
      "Min : 10\n",
      "Moyenne : 54.0\n",
      "Écart-type : 27.932060432413504\n",
      "Somme : 540\n",
      "Indice du max : 8\n",
      "Indice du min : 1\n"
     ]
    }
   ],
   "source": [
    "# Tableau de 10 entiers aléatoires entre 0 et 99\n",
    "arr = np.random.randint(0, 100, (10,))\n",
    "\n",
    "print(\"Tableau :\", arr)\n",
    "print(\"Max :\", arr.max())                # Valeur maximale du tableau\n",
    "print(\"Min :\", arr.min())                # Valeur minimale du tableau\n",
    "print(\"Moyenne :\", arr.mean())           # Moyenne arithmétique\n",
    "print(\"Écart-type :\", arr.std())         # Écart-type (dispersion des valeurs)\n",
    "print(\"Somme :\", arr.sum())              # Somme de tous les éléments\n",
    "print(\"Indice du max :\", arr.argmax())   # Position (indice) de la valeur maximale\n",
    "print(\"Indice du min :\", arr.argmin())   # Position (indice) de la valeur minimale"
   ]
  },
  {
   "cell_type": "markdown",
   "id": "0cc94d43",
   "metadata": {},
   "source": [
    "## 5.2. Matrice 2D"
   ]
  },
  {
   "cell_type": "code",
   "execution_count": 112,
   "id": "08e984a0",
   "metadata": {},
   "outputs": [
    {
     "name": "stdout",
     "output_type": "stream",
     "text": [
      "Matrice :\n",
      " [[24 94 65 77 66]\n",
      " [58  4 90 81 83]\n",
      " [28 63 62 14 62]\n",
      " [68 37  0 11 57]] \n",
      "\n",
      "Moyenne globale : 52.2 \n",
      "\n",
      "Moyenne par ligne : [65.2 63.2 45.8 34.6] \n",
      "\n",
      "Moyenne par colonne : [44.5  49.5  54.25 45.75 67.  ] \n",
      "\n",
      "Somme par colonne : [178 198 217 183 268] \n",
      "\n"
     ]
    }
   ],
   "source": [
    "# matrice 4x5 d'entiers aléatoires entre 0 et 99\n",
    "matrix = np.random.randint(0, 100, (4, 5))\n",
    "\n",
    "print(\"Matrice :\\n\", matrix, \"\\n\")\n",
    "\n",
    "print(\"Moyenne globale :\", matrix.mean(), \"\\n\")              # Moyenne de tous les éléments\n",
    "print(\"Moyenne par ligne :\", matrix.mean(axis=1), \"\\n\")      # Moyenne de chaque ligne\n",
    "print(\"Moyenne par colonne :\", matrix.mean(axis=0), \"\\n\")    # Moyenne de chaque colonne\n",
    "print(\"Somme par colonne :\", matrix.sum(axis=0), \"\\n\")       # Somme de chaque colonne"
   ]
  },
  {
   "cell_type": "markdown",
   "id": "9d75310d",
   "metadata": {},
   "source": [
    "### 🧩 Exercices"
   ]
  },
  {
   "cell_type": "markdown",
   "id": "4c015f5e",
   "metadata": {},
   "source": [
    "> Générez un tableau de 15 entiers aléatoires entre 1 et 100.  \n",
    "> Affichez la valeur maximale, la valeur minimale et leur écart."
   ]
  },
  {
   "cell_type": "code",
   "execution_count": 113,
   "id": "36a04d44",
   "metadata": {},
   "outputs": [
    {
     "name": "stdout",
     "output_type": "stream",
     "text": [
      "79\n",
      "3\n",
      "76\n"
     ]
    }
   ],
   "source": [
    "array = np.random.randint(100, size=(15))\n",
    "print(array.max())\n",
    "print(array.min())\n",
    "print(array.max() - array.min())"
   ]
  },
  {
   "cell_type": "markdown",
   "id": "6bea2c36",
   "metadata": {},
   "source": [
    "> Générez un tableau de 20 entiers aléatoires entre 0 et 50.  \n",
    "> Affichez la somme, la moyenne et la variance."
   ]
  },
  {
   "cell_type": "code",
   "execution_count": 115,
   "id": "c473d960",
   "metadata": {},
   "outputs": [
    {
     "name": "stdout",
     "output_type": "stream",
     "text": [
      "515\n",
      "25.75\n",
      "211.9875\n"
     ]
    }
   ],
   "source": [
    "array = np.random.randint(1, 51, size=(20))\n",
    "print(array.sum())\n",
    "print(array.mean())\n",
    "print(array.var())"
   ]
  },
  {
   "cell_type": "markdown",
   "id": "7bd0d66a",
   "metadata": {},
   "source": [
    "> Créez une matrice 5x4 d’entiers aléatoires entre 0 et 99.  \n",
    "> Affichez la moyenne de chaque ligne et la moyenne de chaque colonne."
   ]
  },
  {
   "cell_type": "code",
   "execution_count": 119,
   "id": "d34b06d6",
   "metadata": {},
   "outputs": [
    {
     "name": "stdout",
     "output_type": "stream",
     "text": [
      "[[46 82 67 88]\n",
      " [22 19 62 49]\n",
      " [60 50 63 98]\n",
      " [28 54 79 92]\n",
      " [72 45 14 65]]\n",
      "[70.75 38.   67.75 63.25 49.  ]\n",
      "[45.6 50.  57.  78.4]\n"
     ]
    }
   ],
   "source": [
    "array = np.random.randint(100, size=(5, 4))\n",
    "print(array)\n",
    "print(array.mean(axis=1))\n",
    "print(array.mean(axis=0))"
   ]
  },
  {
   "cell_type": "markdown",
   "id": "2522b63c",
   "metadata": {},
   "source": [
    "> Générez une matrice 6x3 d'entiers aléatoires.  \n",
    "> Affichez l’indice du maximum global, puis l’indice du maximum de chaque ligne."
   ]
  },
  {
   "cell_type": "code",
   "execution_count": 122,
   "id": "b2aa57ae",
   "metadata": {},
   "outputs": [
    {
     "name": "stdout",
     "output_type": "stream",
     "text": [
      "[[44 95 95]\n",
      " [63 64 56]\n",
      " [53 96 51]\n",
      " [54 67 41]\n",
      " [93  9 77]\n",
      " [92 55  1]]\n",
      "7\n",
      "[1 1 1 1 0 0]\n"
     ]
    }
   ],
   "source": [
    "array = np.random.randint(100, size=(6, 3))\n",
    "print(array)\n",
    "print(array.argmax())\n",
    "print(array.argmax(axis=1))"
   ]
  },
  {
   "cell_type": "markdown",
   "id": "52dbb9ef",
   "metadata": {},
   "source": [
    "> Créez un tableau de 12 flottants aléatoires entre 0 et 1.  \n",
    "> Comptez combien de valeurs sont supérieures à la moyenne."
   ]
  },
  {
   "cell_type": "code",
   "execution_count": 128,
   "id": "0daf669e",
   "metadata": {},
   "outputs": [
    {
     "name": "stdout",
     "output_type": "stream",
     "text": [
      "[0.6058745  0.94952675 0.96844028 0.90817338 0.4727141  0.61968753\n",
      " 0.6463207  0.66327075 0.9431987  0.10814779 0.35993119 0.69909496]\n",
      "0.6620317203274465\n",
      "6\n"
     ]
    }
   ],
   "source": [
    "array = np.random.rand(12)\n",
    "print(array)\n",
    "mean = array.mean()\n",
    "print(mean)\n",
    "sup = array[array > mean]\n",
    "print(len(sup))"
   ]
  },
  {
   "cell_type": "markdown",
   "id": "c207be2e",
   "metadata": {},
   "source": [
    "> Générez un tableau de 50 entiers entre 10 et 100.  \n",
    "> Calculez le 25e, le 50e (médiane) et le 75e percentile."
   ]
  },
  {
   "cell_type": "code",
   "execution_count": 5,
   "id": "e5f7781b",
   "metadata": {},
   "outputs": [
    {
     "name": "stdout",
     "output_type": "stream",
     "text": [
      "[ 15  15  19  20  21  22  24  26  27  28  29  30  30  34  37  38  38  39\n",
      "  40  43  46  46  51  52  52  62  63  64  66  72  74  77  78  79  80  80\n",
      "  80  84  86  88  91  92  92  93  96  96  98  99 100 100]\n",
      "31.0\n",
      "57.0\n",
      "83.0\n"
     ]
    }
   ],
   "source": [
    "import numpy as np\n",
    "\n",
    "array = np.random.randint(10, 101, size=(50))\n",
    "array.sort()\n",
    "print(array)\n",
    "print(np.percentile(array, 25))\n",
    "print(np.percentile(array, 50))\n",
    "print(np.percentile(array, 75))"
   ]
  },
  {
   "cell_type": "markdown",
   "id": "5b8e577d",
   "metadata": {},
   "source": [
    "# 6. 🔧 Empilement et fusion de tableaux"
   ]
  },
  {
   "cell_type": "markdown",
   "id": "8696bdd1",
   "metadata": {},
   "source": [
    "Il est souvent nécessaire de combiner plusieurs tableaux NumPy pour former des structures plus grandes.  \n",
    "Cela peut se faire en ajoutant des lignes (empilement vertical) ou des colonnes (empilement horizontal).\n",
    "\n",
    "NumPy propose plusieurs fonctions pour cela :\n",
    "\n",
    "- `np.vstack` : empilement dans le sens **vertical** (ajoute des lignes)\n",
    "- `np.hstack` : empilement dans le sens **horizontal** (ajoute des colonnes)\n",
    "- `np.concatenate` : fusion plus générale, où l’on choisit l’axe (`axis=0` pour les lignes, `axis=1` pour les colonnes)\n",
    "\n",
    "⚠️ Pour que ces opérations fonctionnent, les **dimensions doivent être compatibles** :\n",
    "- Pour empiler verticalement, les **nombres de colonnes doivent être identiques**\n",
    "- Pour empiler horizontalement, les **nombres de lignes doivent être identiques**"
   ]
  },
  {
   "cell_type": "code",
   "execution_count": 6,
   "id": "dd24beab",
   "metadata": {},
   "outputs": [
    {
     "name": "stdout",
     "output_type": "stream",
     "text": [
      "Empilement vertical (vstack) :\n",
      " [[1 2]\n",
      " [3 4]\n",
      " [5 6]] \n",
      "\n",
      "Empilement horizontal (hstack) :\n",
      " [[1 2 1 2]\n",
      " [3 4 3 4]] \n",
      "\n",
      "Concaténation verticale :\n",
      " [[1 2]\n",
      " [3 4]\n",
      " [5 6]] \n",
      "\n",
      "Concaténation horizontale :\n",
      " [[1 2 1 2]\n",
      " [3 4 3 4]] \n",
      "\n"
     ]
    }
   ],
   "source": [
    "a = np.array([[1, 2], [3, 4]])  # matrice 2x2\n",
    "b = np.array([[5, 6]])          # matrice 1x2\n",
    "\n",
    "\n",
    "# Empilement vertical : ajoute des lignes (mêmes nombres de colonnes requis)\n",
    "vstacked = np.vstack([a, b])\n",
    "print(\"Empilement vertical (vstack) :\\n\", vstacked, \"\\n\")\n",
    "\n",
    "# Empilement horizontal : ajoute des colonnes (mêmes nombres de lignes requis)\n",
    "hstacked = np.hstack([a, a])\n",
    "print(\"Empilement horizontal (hstack) :\\n\", hstacked, \"\\n\")\n",
    "\n",
    "\n",
    "# Fusion avec np.concatenate (plus général)\n",
    "conc_v = np.concatenate([a, b], axis=0)  # même que vstack\n",
    "print(\"Concaténation verticale :\\n\", conc_v, \"\\n\")\n",
    "\n",
    "conc_h = np.concatenate([a, a], axis=1)  # même que hstack\n",
    "print(\"Concaténation horizontale :\\n\", conc_h, \"\\n\")\n",
    "\n",
    "\n",
    "# 💡 INFO :\n",
    "# np.vstack([a, b]) et np.concatenate([a, b], axis=0) donnent exactement le même résultat :\n",
    "# → ils empilent les tableaux verticalement (ajout de lignes).\n",
    "\n",
    "# De même, np.hstack([a, a]) et np.concatenate([a, a], axis=1) sont aussi équivalents :\n",
    "# → ils empilent les tableaux horizontalement (ajout de colonnes).\n",
    "\n",
    "# ✅ vstack / hstack sont plus lisibles pour débuter,\n",
    "# ✅ concatenate est plus flexible (surtout utile pour des tableaux à plus de 2 dimensions)."
   ]
  },
  {
   "cell_type": "markdown",
   "id": "2aabc930",
   "metadata": {},
   "source": [
    "### 🧩 Exercices"
   ]
  },
  {
   "cell_type": "markdown",
   "id": "9b90ed9b",
   "metadata": {},
   "source": [
    "> Créez deux matrices compatibles pour un empilement vertical :  \n",
    "> - une matrice `a` de forme `(2, 3)`  \n",
    "> - une matrice `b` de forme `(1, 3)`  \n",
    "> - Utilisez `np.vstack()` pour les empiler."
   ]
  },
  {
   "cell_type": "code",
   "execution_count": 9,
   "id": "8319f532",
   "metadata": {},
   "outputs": [
    {
     "name": "stdout",
     "output_type": "stream",
     "text": [
      "[[52 38 84]\n",
      " [78 33 41]]\n",
      "[[83  9 27]]\n",
      "[[52 38 84]\n",
      " [78 33 41]\n",
      " [83  9 27]]\n"
     ]
    }
   ],
   "source": [
    "a = np.random.randint(100, size=(2,3))\n",
    "b = np.random.randint(100, size=(1,3))\n",
    "print(a)\n",
    "print(b)\n",
    "stack = np.vstack([a,b])\n",
    "print(stack)"
   ]
  },
  {
   "cell_type": "markdown",
   "id": "a851c4e6",
   "metadata": {},
   "source": [
    "> Reprenez les mêmes matrices que précdemment et utilisez np.concatenate() avec axis=0 pour vérifier qu’on obtient le même résultat qu’avec vstack."
   ]
  },
  {
   "cell_type": "code",
   "execution_count": 10,
   "id": "648340f6",
   "metadata": {},
   "outputs": [
    {
     "name": "stdout",
     "output_type": "stream",
     "text": [
      "[[52 38 84]\n",
      " [78 33 41]\n",
      " [83  9 27]]\n"
     ]
    }
   ],
   "source": [
    "stack = np.concatenate([a,b], axis=0)\n",
    "print(stack)"
   ]
  },
  {
   "cell_type": "markdown",
   "id": "89eb1495",
   "metadata": {},
   "source": [
    "> Reprenez les mêmes matrices que précédemment et utilisez np.concatenate() avec axis=1 pour vérifier qu’on obtient le même résultat qu’avec hstack."
   ]
  },
  {
   "cell_type": "code",
   "execution_count": null,
   "id": "bc31eb1e",
   "metadata": {},
   "outputs": [
    {
     "ename": "ValueError",
     "evalue": "all the input array dimensions except for the concatenation axis must match exactly, but along dimension 0, the array at index 0 has size 2 and the array at index 1 has size 1",
     "output_type": "error",
     "traceback": [
      "\u001b[31m---------------------------------------------------------------------------\u001b[39m",
      "\u001b[31mValueError\u001b[39m                                Traceback (most recent call last)",
      "\u001b[36mCell\u001b[39m\u001b[36m \u001b[39m\u001b[32mIn[11]\u001b[39m\u001b[32m, line 1\u001b[39m\n\u001b[32m----> \u001b[39m\u001b[32m1\u001b[39m stack = \u001b[43mnp\u001b[49m\u001b[43m.\u001b[49m\u001b[43mconcatenate\u001b[49m\u001b[43m(\u001b[49m\u001b[43m[\u001b[49m\u001b[43ma\u001b[49m\u001b[43m,\u001b[49m\u001b[43mb\u001b[49m\u001b[43m]\u001b[49m\u001b[43m,\u001b[49m\u001b[43m \u001b[49m\u001b[43maxis\u001b[49m\u001b[43m=\u001b[49m\u001b[32;43m1\u001b[39;49m\u001b[43m)\u001b[49m\n\u001b[32m      2\u001b[39m \u001b[38;5;28mprint\u001b[39m(stack)\n",
      "\u001b[31mValueError\u001b[39m: all the input array dimensions except for the concatenation axis must match exactly, but along dimension 0, the array at index 0 has size 2 and the array at index 1 has size 1"
     ]
    }
   ],
   "source": [
    "ERROR AS INTENDED"
   ]
  },
  {
   "cell_type": "markdown",
   "id": "cc77e9b4",
   "metadata": {},
   "source": [
    "# 7. 📡 Broadcasting (adaptation automatique des dimensions)"
   ]
  },
  {
   "cell_type": "markdown",
   "id": "fcf72f68",
   "metadata": {},
   "source": [
    "En NumPy, les opérations entre tableaux (addition, soustraction, etc.) nécessitent normalement que les formes (shape) soient **compatibles**.\n",
    "\n",
    "Mais au lieu de lever une erreur quand les formes sont différentes, NumPy applique parfois automatiquement une règle intelligente d’adaptation des dimensions : c’est ce qu’on appelle le **broadcasting** (ou diffusion en français)."
   ]
  },
  {
   "cell_type": "code",
   "execution_count": 12,
   "id": "0dc7e049",
   "metadata": {},
   "outputs": [
    {
     "name": "stdout",
     "output_type": "stream",
     "text": [
      "A.shape = (3, 1) \n",
      "\n",
      "B.shape = (3,) \n",
      "\n",
      "Résultat du broadcasting :\n",
      " [[11 21 31]\n",
      " [12 22 32]\n",
      " [13 23 33]]\n"
     ]
    }
   ],
   "source": [
    "A = np.array([[1], [2], [3]])  # Matrice de forme (3, 1) : vecteur colonne\n",
    "B = np.array([10, 20, 30])     # Vecteur ligne de forme (3,)\n",
    "\n",
    "print(\"A.shape =\", A.shape, \"\\n\")    # Affiche la forme de A : (3, 1)\n",
    "print(\"B.shape =\", B.shape, \"\\n\")    # Affiche la forme de B : (3,)\n",
    "\n",
    "# NumPy étend automatiquement A horizontalement (comme si on le copiait 3 fois en colonnes) pour l’aligner avec B (qui est traité comme une ligne).\n",
    "# Résultat : addition élément par élément dans une matrice de forme (3, 3)\n",
    "print(\"Résultat du broadcasting :\\n\", A + B)"
   ]
  },
  {
   "cell_type": "markdown",
   "id": "f4f62246",
   "metadata": {},
   "source": [
    "### 🧩 Exercices"
   ]
  },
  {
   "cell_type": "markdown",
   "id": "16d258bd",
   "metadata": {},
   "source": [
    "> Créez un vecteur `a = np.array([1, 2, 3])`.  \n",
    "> Ajoutez le scalaire `5` à ce vecteur. Que se passe-t-il ?"
   ]
  },
  {
   "cell_type": "code",
   "execution_count": 13,
   "id": "7510ccc3",
   "metadata": {},
   "outputs": [
    {
     "name": "stdout",
     "output_type": "stream",
     "text": [
      "[6 7 8]\n"
     ]
    }
   ],
   "source": [
    "a = np.array([1,2,3])\n",
    "print(a + 5)"
   ]
  },
  {
   "cell_type": "markdown",
   "id": "08436591",
   "metadata": {},
   "source": [
    "> Créez une matrice `M` de forme (3, 4) avec `np.ones((3, 4))`.  \n",
    "> Créez un vecteur `v = np.array([10, 20, 30, 40])`.  \n",
    "> Faites `M + v` et observez le résultat."
   ]
  },
  {
   "cell_type": "code",
   "execution_count": 14,
   "id": "3b2a34ab",
   "metadata": {},
   "outputs": [
    {
     "name": "stdout",
     "output_type": "stream",
     "text": [
      "[[11. 21. 31. 41.]\n",
      " [11. 21. 31. 41.]\n",
      " [11. 21. 31. 41.]]\n"
     ]
    }
   ],
   "source": [
    "matrix = np.ones((3,4))\n",
    "v = np.array([10,20,30,40])\n",
    "print(matrix + v)"
   ]
  },
  {
   "cell_type": "markdown",
   "id": "59acc516",
   "metadata": {},
   "source": [
    "> Créez une matrice `M = np.ones((3, 4))`.  \n",
    "> Créez un vecteur colonne `v = np.array([[1], [2], [3]])`.  \n",
    "> Faites `M + v`. Pourquoi cela fonctionne ?"
   ]
  },
  {
   "cell_type": "code",
   "execution_count": null,
   "id": "5d00e435",
   "metadata": {},
   "outputs": [
    {
     "name": "stdout",
     "output_type": "stream",
     "text": [
      "[[2. 2. 2. 2.]\n",
      " [3. 3. 3. 3.]\n",
      " [4. 4. 4. 4.]]\n"
     ]
    }
   ],
   "source": [
    "M = np.ones((3,4))\n",
    "v = np.array([[1],[2],[3]])\n",
    "print(M+v)\n",
    "\n",
    "#chaque entrée de v est dupliquée sur toute la ligne"
   ]
  },
  {
   "cell_type": "markdown",
   "id": "baa35a77",
   "metadata": {},
   "source": [
    "> Créez `A = np.array([[1], [2], [3]])` (forme 3x1)  \n",
    "> Créez `B = np.array([10, 20])` (forme 2,)  \n",
    "> Essayez `A + B`. Que se passe-t-il ? Pourquoi ?"
   ]
  },
  {
   "cell_type": "code",
   "execution_count": null,
   "id": "8d397d7a",
   "metadata": {},
   "outputs": [
    {
     "name": "stdout",
     "output_type": "stream",
     "text": [
      "[[11 21]\n",
      " [12 22]\n",
      " [13 23]]\n"
     ]
    }
   ],
   "source": [
    "A = np.array([[1],[2],[3]])\n",
    "B = np.array([10, 20])\n",
    "print(A+B)\n",
    "\n",
    "#pour chaque entrée de A on applique le calcul avec les deux entrée de la ligne B"
   ]
  },
  {
   "cell_type": "markdown",
   "id": "4b4e33bd",
   "metadata": {},
   "source": [
    "> Créez `X = np.ones((2, 3, 4))`  \n",
    "> Créez `Y = np.array([[10, 20, 30, 40], [50, 60, 70, 80], [90, 100, 110, 120]])` (forme 3x4)  \n",
    "> Essayez `X + Y` et observez la forme du résultat."
   ]
  },
  {
   "cell_type": "code",
   "execution_count": 20,
   "id": "ffb94d1c",
   "metadata": {},
   "outputs": [
    {
     "name": "stdout",
     "output_type": "stream",
     "text": [
      "[[[1. 1. 1. 1.]\n",
      "  [1. 1. 1. 1.]\n",
      "  [1. 1. 1. 1.]]\n",
      "\n",
      " [[1. 1. 1. 1.]\n",
      "  [1. 1. 1. 1.]\n",
      "  [1. 1. 1. 1.]]]\n",
      "[[[ 11.  21.  31.  41.]\n",
      "  [ 51.  61.  71.  81.]\n",
      "  [ 91. 101. 111. 121.]]\n",
      "\n",
      " [[ 11.  21.  31.  41.]\n",
      "  [ 51.  61.  71.  81.]\n",
      "  [ 91. 101. 111. 121.]]]\n"
     ]
    }
   ],
   "source": [
    "x = np.ones((2,3,4))\n",
    "print(x)\n",
    "y = np.array([[10,20,30,40],[50,60,70,80],[90,100,110,120]])\n",
    "print(x+y)"
   ]
  },
  {
   "cell_type": "markdown",
   "id": "035e3483",
   "metadata": {},
   "source": [
    "---\n",
    "## ✅ Bravo !\n",
    "Vous connaissez maintenant les bases essentielles de NumPy. Vous allez pouvoir aborder d'autres libriaries telles que **Pandas** ou **Scikit-learn**."
   ]
  }
 ],
 "metadata": {
  "kernelspec": {
   "display_name": ".venv",
   "language": "python",
   "name": "python3"
  },
  "language_info": {
   "codemirror_mode": {
    "name": "ipython",
    "version": 3
   },
   "file_extension": ".py",
   "mimetype": "text/x-python",
   "name": "python",
   "nbconvert_exporter": "python",
   "pygments_lexer": "ipython3",
   "version": "3.12.3"
  }
 },
 "nbformat": 4,
 "nbformat_minor": 5
}
